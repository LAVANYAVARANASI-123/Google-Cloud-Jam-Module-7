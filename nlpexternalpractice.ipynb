{
  "nbformat": 4,
  "nbformat_minor": 0,
  "metadata": {
    "colab": {
      "provenance": [],
      "mount_file_id": "14n1OQ37rqz7egpD4_djhwrYuiXnZtD0-",
      "authorship_tag": "ABX9TyPh9w9Vzrxu671xtPlwsB6G",
      "include_colab_link": true
    },
    "kernelspec": {
      "name": "python3",
      "display_name": "Python 3"
    },
    "language_info": {
      "name": "python"
    },
    "widgets": {
      "application/vnd.jupyter.widget-state+json": {
        "73d4f5c00c924a94ac2a578835cd9533": {
          "model_module": "@jupyter-widgets/controls",
          "model_name": "HBoxModel",
          "model_module_version": "1.5.0",
          "state": {
            "_dom_classes": [],
            "_model_module": "@jupyter-widgets/controls",
            "_model_module_version": "1.5.0",
            "_model_name": "HBoxModel",
            "_view_count": null,
            "_view_module": "@jupyter-widgets/controls",
            "_view_module_version": "1.5.0",
            "_view_name": "HBoxView",
            "box_style": "",
            "children": [
              "IPY_MODEL_2d164c11cef8408e94b88ab7a1095069",
              "IPY_MODEL_b8f02f4f228f464b8d19e73102c36ed9",
              "IPY_MODEL_27853307f58d4228935ceccc5f27b3d1"
            ],
            "layout": "IPY_MODEL_105e22850f09492b90baaa70cdbda921"
          }
        },
        "2d164c11cef8408e94b88ab7a1095069": {
          "model_module": "@jupyter-widgets/controls",
          "model_name": "HTMLModel",
          "model_module_version": "1.5.0",
          "state": {
            "_dom_classes": [],
            "_model_module": "@jupyter-widgets/controls",
            "_model_module_version": "1.5.0",
            "_model_name": "HTMLModel",
            "_view_count": null,
            "_view_module": "@jupyter-widgets/controls",
            "_view_module_version": "1.5.0",
            "_view_name": "HTMLView",
            "description": "",
            "description_tooltip": null,
            "layout": "IPY_MODEL_86e0b04f620c4bc689dc81f6f816010b",
            "placeholder": "​",
            "style": "IPY_MODEL_58589402e9bb4daca37b000af1540198",
            "value": "Downloading https://raw.githubusercontent.com/stanfordnlp/stanza-resources/main/resources_1.8.0.json: "
          }
        },
        "b8f02f4f228f464b8d19e73102c36ed9": {
          "model_module": "@jupyter-widgets/controls",
          "model_name": "FloatProgressModel",
          "model_module_version": "1.5.0",
          "state": {
            "_dom_classes": [],
            "_model_module": "@jupyter-widgets/controls",
            "_model_module_version": "1.5.0",
            "_model_name": "FloatProgressModel",
            "_view_count": null,
            "_view_module": "@jupyter-widgets/controls",
            "_view_module_version": "1.5.0",
            "_view_name": "ProgressView",
            "bar_style": "success",
            "description": "",
            "description_tooltip": null,
            "layout": "IPY_MODEL_8231548a02de4902818765615bcf272b",
            "max": 47208,
            "min": 0,
            "orientation": "horizontal",
            "style": "IPY_MODEL_fc1eb92366be458088ecfd329570ff12",
            "value": 47208
          }
        },
        "27853307f58d4228935ceccc5f27b3d1": {
          "model_module": "@jupyter-widgets/controls",
          "model_name": "HTMLModel",
          "model_module_version": "1.5.0",
          "state": {
            "_dom_classes": [],
            "_model_module": "@jupyter-widgets/controls",
            "_model_module_version": "1.5.0",
            "_model_name": "HTMLModel",
            "_view_count": null,
            "_view_module": "@jupyter-widgets/controls",
            "_view_module_version": "1.5.0",
            "_view_name": "HTMLView",
            "description": "",
            "description_tooltip": null,
            "layout": "IPY_MODEL_3edc48e2ef224bb6b05a53a85d42090b",
            "placeholder": "​",
            "style": "IPY_MODEL_64b412a10f93439c9c90ab7073f1b749",
            "value": " 379k/? [00:00&lt;00:00, 12.7MB/s]"
          }
        },
        "105e22850f09492b90baaa70cdbda921": {
          "model_module": "@jupyter-widgets/base",
          "model_name": "LayoutModel",
          "model_module_version": "1.2.0",
          "state": {
            "_model_module": "@jupyter-widgets/base",
            "_model_module_version": "1.2.0",
            "_model_name": "LayoutModel",
            "_view_count": null,
            "_view_module": "@jupyter-widgets/base",
            "_view_module_version": "1.2.0",
            "_view_name": "LayoutView",
            "align_content": null,
            "align_items": null,
            "align_self": null,
            "border": null,
            "bottom": null,
            "display": null,
            "flex": null,
            "flex_flow": null,
            "grid_area": null,
            "grid_auto_columns": null,
            "grid_auto_flow": null,
            "grid_auto_rows": null,
            "grid_column": null,
            "grid_gap": null,
            "grid_row": null,
            "grid_template_areas": null,
            "grid_template_columns": null,
            "grid_template_rows": null,
            "height": null,
            "justify_content": null,
            "justify_items": null,
            "left": null,
            "margin": null,
            "max_height": null,
            "max_width": null,
            "min_height": null,
            "min_width": null,
            "object_fit": null,
            "object_position": null,
            "order": null,
            "overflow": null,
            "overflow_x": null,
            "overflow_y": null,
            "padding": null,
            "right": null,
            "top": null,
            "visibility": null,
            "width": null
          }
        },
        "86e0b04f620c4bc689dc81f6f816010b": {
          "model_module": "@jupyter-widgets/base",
          "model_name": "LayoutModel",
          "model_module_version": "1.2.0",
          "state": {
            "_model_module": "@jupyter-widgets/base",
            "_model_module_version": "1.2.0",
            "_model_name": "LayoutModel",
            "_view_count": null,
            "_view_module": "@jupyter-widgets/base",
            "_view_module_version": "1.2.0",
            "_view_name": "LayoutView",
            "align_content": null,
            "align_items": null,
            "align_self": null,
            "border": null,
            "bottom": null,
            "display": null,
            "flex": null,
            "flex_flow": null,
            "grid_area": null,
            "grid_auto_columns": null,
            "grid_auto_flow": null,
            "grid_auto_rows": null,
            "grid_column": null,
            "grid_gap": null,
            "grid_row": null,
            "grid_template_areas": null,
            "grid_template_columns": null,
            "grid_template_rows": null,
            "height": null,
            "justify_content": null,
            "justify_items": null,
            "left": null,
            "margin": null,
            "max_height": null,
            "max_width": null,
            "min_height": null,
            "min_width": null,
            "object_fit": null,
            "object_position": null,
            "order": null,
            "overflow": null,
            "overflow_x": null,
            "overflow_y": null,
            "padding": null,
            "right": null,
            "top": null,
            "visibility": null,
            "width": null
          }
        },
        "58589402e9bb4daca37b000af1540198": {
          "model_module": "@jupyter-widgets/controls",
          "model_name": "DescriptionStyleModel",
          "model_module_version": "1.5.0",
          "state": {
            "_model_module": "@jupyter-widgets/controls",
            "_model_module_version": "1.5.0",
            "_model_name": "DescriptionStyleModel",
            "_view_count": null,
            "_view_module": "@jupyter-widgets/base",
            "_view_module_version": "1.2.0",
            "_view_name": "StyleView",
            "description_width": ""
          }
        },
        "8231548a02de4902818765615bcf272b": {
          "model_module": "@jupyter-widgets/base",
          "model_name": "LayoutModel",
          "model_module_version": "1.2.0",
          "state": {
            "_model_module": "@jupyter-widgets/base",
            "_model_module_version": "1.2.0",
            "_model_name": "LayoutModel",
            "_view_count": null,
            "_view_module": "@jupyter-widgets/base",
            "_view_module_version": "1.2.0",
            "_view_name": "LayoutView",
            "align_content": null,
            "align_items": null,
            "align_self": null,
            "border": null,
            "bottom": null,
            "display": null,
            "flex": null,
            "flex_flow": null,
            "grid_area": null,
            "grid_auto_columns": null,
            "grid_auto_flow": null,
            "grid_auto_rows": null,
            "grid_column": null,
            "grid_gap": null,
            "grid_row": null,
            "grid_template_areas": null,
            "grid_template_columns": null,
            "grid_template_rows": null,
            "height": null,
            "justify_content": null,
            "justify_items": null,
            "left": null,
            "margin": null,
            "max_height": null,
            "max_width": null,
            "min_height": null,
            "min_width": null,
            "object_fit": null,
            "object_position": null,
            "order": null,
            "overflow": null,
            "overflow_x": null,
            "overflow_y": null,
            "padding": null,
            "right": null,
            "top": null,
            "visibility": null,
            "width": null
          }
        },
        "fc1eb92366be458088ecfd329570ff12": {
          "model_module": "@jupyter-widgets/controls",
          "model_name": "ProgressStyleModel",
          "model_module_version": "1.5.0",
          "state": {
            "_model_module": "@jupyter-widgets/controls",
            "_model_module_version": "1.5.0",
            "_model_name": "ProgressStyleModel",
            "_view_count": null,
            "_view_module": "@jupyter-widgets/base",
            "_view_module_version": "1.2.0",
            "_view_name": "StyleView",
            "bar_color": null,
            "description_width": ""
          }
        },
        "3edc48e2ef224bb6b05a53a85d42090b": {
          "model_module": "@jupyter-widgets/base",
          "model_name": "LayoutModel",
          "model_module_version": "1.2.0",
          "state": {
            "_model_module": "@jupyter-widgets/base",
            "_model_module_version": "1.2.0",
            "_model_name": "LayoutModel",
            "_view_count": null,
            "_view_module": "@jupyter-widgets/base",
            "_view_module_version": "1.2.0",
            "_view_name": "LayoutView",
            "align_content": null,
            "align_items": null,
            "align_self": null,
            "border": null,
            "bottom": null,
            "display": null,
            "flex": null,
            "flex_flow": null,
            "grid_area": null,
            "grid_auto_columns": null,
            "grid_auto_flow": null,
            "grid_auto_rows": null,
            "grid_column": null,
            "grid_gap": null,
            "grid_row": null,
            "grid_template_areas": null,
            "grid_template_columns": null,
            "grid_template_rows": null,
            "height": null,
            "justify_content": null,
            "justify_items": null,
            "left": null,
            "margin": null,
            "max_height": null,
            "max_width": null,
            "min_height": null,
            "min_width": null,
            "object_fit": null,
            "object_position": null,
            "order": null,
            "overflow": null,
            "overflow_x": null,
            "overflow_y": null,
            "padding": null,
            "right": null,
            "top": null,
            "visibility": null,
            "width": null
          }
        },
        "64b412a10f93439c9c90ab7073f1b749": {
          "model_module": "@jupyter-widgets/controls",
          "model_name": "DescriptionStyleModel",
          "model_module_version": "1.5.0",
          "state": {
            "_model_module": "@jupyter-widgets/controls",
            "_model_module_version": "1.5.0",
            "_model_name": "DescriptionStyleModel",
            "_view_count": null,
            "_view_module": "@jupyter-widgets/base",
            "_view_module_version": "1.2.0",
            "_view_name": "StyleView",
            "description_width": ""
          }
        },
        "fced17efb70c4fd8857d3f13b0965034": {
          "model_module": "@jupyter-widgets/controls",
          "model_name": "HBoxModel",
          "model_module_version": "1.5.0",
          "state": {
            "_dom_classes": [],
            "_model_module": "@jupyter-widgets/controls",
            "_model_module_version": "1.5.0",
            "_model_name": "HBoxModel",
            "_view_count": null,
            "_view_module": "@jupyter-widgets/controls",
            "_view_module_version": "1.5.0",
            "_view_name": "HBoxView",
            "box_style": "",
            "children": [
              "IPY_MODEL_435d8d83bc7f4ab49d06da1cd3a51227",
              "IPY_MODEL_108cb9fae10143c592cd87bb6ee5d4ca",
              "IPY_MODEL_d2c869c25cab4d6d905faec8cb989ee4"
            ],
            "layout": "IPY_MODEL_aca0eb541bb0457eb5df0c8a4da60109"
          }
        },
        "435d8d83bc7f4ab49d06da1cd3a51227": {
          "model_module": "@jupyter-widgets/controls",
          "model_name": "HTMLModel",
          "model_module_version": "1.5.0",
          "state": {
            "_dom_classes": [],
            "_model_module": "@jupyter-widgets/controls",
            "_model_module_version": "1.5.0",
            "_model_name": "HTMLModel",
            "_view_count": null,
            "_view_module": "@jupyter-widgets/controls",
            "_view_module_version": "1.5.0",
            "_view_name": "HTMLView",
            "description": "",
            "description_tooltip": null,
            "layout": "IPY_MODEL_df6f81677fb5471282e2df17a5921438",
            "placeholder": "​",
            "style": "IPY_MODEL_95c53328a88b4c878fd8ce437d8f3de8",
            "value": "Downloading https://huggingface.co/stanfordnlp/stanza-en/resolve/v1.8.0/models/default.zip: 100%"
          }
        },
        "108cb9fae10143c592cd87bb6ee5d4ca": {
          "model_module": "@jupyter-widgets/controls",
          "model_name": "FloatProgressModel",
          "model_module_version": "1.5.0",
          "state": {
            "_dom_classes": [],
            "_model_module": "@jupyter-widgets/controls",
            "_model_module_version": "1.5.0",
            "_model_name": "FloatProgressModel",
            "_view_count": null,
            "_view_module": "@jupyter-widgets/controls",
            "_view_module_version": "1.5.0",
            "_view_name": "ProgressView",
            "bar_style": "success",
            "description": "",
            "description_tooltip": null,
            "layout": "IPY_MODEL_3c7c00b00fae48e192b95802f9a70cf7",
            "max": 526684143,
            "min": 0,
            "orientation": "horizontal",
            "style": "IPY_MODEL_880be2eade564135b0c9d0ec62cf1c96",
            "value": 526684143
          }
        },
        "d2c869c25cab4d6d905faec8cb989ee4": {
          "model_module": "@jupyter-widgets/controls",
          "model_name": "HTMLModel",
          "model_module_version": "1.5.0",
          "state": {
            "_dom_classes": [],
            "_model_module": "@jupyter-widgets/controls",
            "_model_module_version": "1.5.0",
            "_model_name": "HTMLModel",
            "_view_count": null,
            "_view_module": "@jupyter-widgets/controls",
            "_view_module_version": "1.5.0",
            "_view_name": "HTMLView",
            "description": "",
            "description_tooltip": null,
            "layout": "IPY_MODEL_ade22a6013794b6596f5682b0e0fd119",
            "placeholder": "​",
            "style": "IPY_MODEL_3ca1da03079342889cdb83ab16192739",
            "value": " 527M/527M [00:04&lt;00:00, 116MB/s]"
          }
        },
        "aca0eb541bb0457eb5df0c8a4da60109": {
          "model_module": "@jupyter-widgets/base",
          "model_name": "LayoutModel",
          "model_module_version": "1.2.0",
          "state": {
            "_model_module": "@jupyter-widgets/base",
            "_model_module_version": "1.2.0",
            "_model_name": "LayoutModel",
            "_view_count": null,
            "_view_module": "@jupyter-widgets/base",
            "_view_module_version": "1.2.0",
            "_view_name": "LayoutView",
            "align_content": null,
            "align_items": null,
            "align_self": null,
            "border": null,
            "bottom": null,
            "display": null,
            "flex": null,
            "flex_flow": null,
            "grid_area": null,
            "grid_auto_columns": null,
            "grid_auto_flow": null,
            "grid_auto_rows": null,
            "grid_column": null,
            "grid_gap": null,
            "grid_row": null,
            "grid_template_areas": null,
            "grid_template_columns": null,
            "grid_template_rows": null,
            "height": null,
            "justify_content": null,
            "justify_items": null,
            "left": null,
            "margin": null,
            "max_height": null,
            "max_width": null,
            "min_height": null,
            "min_width": null,
            "object_fit": null,
            "object_position": null,
            "order": null,
            "overflow": null,
            "overflow_x": null,
            "overflow_y": null,
            "padding": null,
            "right": null,
            "top": null,
            "visibility": null,
            "width": null
          }
        },
        "df6f81677fb5471282e2df17a5921438": {
          "model_module": "@jupyter-widgets/base",
          "model_name": "LayoutModel",
          "model_module_version": "1.2.0",
          "state": {
            "_model_module": "@jupyter-widgets/base",
            "_model_module_version": "1.2.0",
            "_model_name": "LayoutModel",
            "_view_count": null,
            "_view_module": "@jupyter-widgets/base",
            "_view_module_version": "1.2.0",
            "_view_name": "LayoutView",
            "align_content": null,
            "align_items": null,
            "align_self": null,
            "border": null,
            "bottom": null,
            "display": null,
            "flex": null,
            "flex_flow": null,
            "grid_area": null,
            "grid_auto_columns": null,
            "grid_auto_flow": null,
            "grid_auto_rows": null,
            "grid_column": null,
            "grid_gap": null,
            "grid_row": null,
            "grid_template_areas": null,
            "grid_template_columns": null,
            "grid_template_rows": null,
            "height": null,
            "justify_content": null,
            "justify_items": null,
            "left": null,
            "margin": null,
            "max_height": null,
            "max_width": null,
            "min_height": null,
            "min_width": null,
            "object_fit": null,
            "object_position": null,
            "order": null,
            "overflow": null,
            "overflow_x": null,
            "overflow_y": null,
            "padding": null,
            "right": null,
            "top": null,
            "visibility": null,
            "width": null
          }
        },
        "95c53328a88b4c878fd8ce437d8f3de8": {
          "model_module": "@jupyter-widgets/controls",
          "model_name": "DescriptionStyleModel",
          "model_module_version": "1.5.0",
          "state": {
            "_model_module": "@jupyter-widgets/controls",
            "_model_module_version": "1.5.0",
            "_model_name": "DescriptionStyleModel",
            "_view_count": null,
            "_view_module": "@jupyter-widgets/base",
            "_view_module_version": "1.2.0",
            "_view_name": "StyleView",
            "description_width": ""
          }
        },
        "3c7c00b00fae48e192b95802f9a70cf7": {
          "model_module": "@jupyter-widgets/base",
          "model_name": "LayoutModel",
          "model_module_version": "1.2.0",
          "state": {
            "_model_module": "@jupyter-widgets/base",
            "_model_module_version": "1.2.0",
            "_model_name": "LayoutModel",
            "_view_count": null,
            "_view_module": "@jupyter-widgets/base",
            "_view_module_version": "1.2.0",
            "_view_name": "LayoutView",
            "align_content": null,
            "align_items": null,
            "align_self": null,
            "border": null,
            "bottom": null,
            "display": null,
            "flex": null,
            "flex_flow": null,
            "grid_area": null,
            "grid_auto_columns": null,
            "grid_auto_flow": null,
            "grid_auto_rows": null,
            "grid_column": null,
            "grid_gap": null,
            "grid_row": null,
            "grid_template_areas": null,
            "grid_template_columns": null,
            "grid_template_rows": null,
            "height": null,
            "justify_content": null,
            "justify_items": null,
            "left": null,
            "margin": null,
            "max_height": null,
            "max_width": null,
            "min_height": null,
            "min_width": null,
            "object_fit": null,
            "object_position": null,
            "order": null,
            "overflow": null,
            "overflow_x": null,
            "overflow_y": null,
            "padding": null,
            "right": null,
            "top": null,
            "visibility": null,
            "width": null
          }
        },
        "880be2eade564135b0c9d0ec62cf1c96": {
          "model_module": "@jupyter-widgets/controls",
          "model_name": "ProgressStyleModel",
          "model_module_version": "1.5.0",
          "state": {
            "_model_module": "@jupyter-widgets/controls",
            "_model_module_version": "1.5.0",
            "_model_name": "ProgressStyleModel",
            "_view_count": null,
            "_view_module": "@jupyter-widgets/base",
            "_view_module_version": "1.2.0",
            "_view_name": "StyleView",
            "bar_color": null,
            "description_width": ""
          }
        },
        "ade22a6013794b6596f5682b0e0fd119": {
          "model_module": "@jupyter-widgets/base",
          "model_name": "LayoutModel",
          "model_module_version": "1.2.0",
          "state": {
            "_model_module": "@jupyter-widgets/base",
            "_model_module_version": "1.2.0",
            "_model_name": "LayoutModel",
            "_view_count": null,
            "_view_module": "@jupyter-widgets/base",
            "_view_module_version": "1.2.0",
            "_view_name": "LayoutView",
            "align_content": null,
            "align_items": null,
            "align_self": null,
            "border": null,
            "bottom": null,
            "display": null,
            "flex": null,
            "flex_flow": null,
            "grid_area": null,
            "grid_auto_columns": null,
            "grid_auto_flow": null,
            "grid_auto_rows": null,
            "grid_column": null,
            "grid_gap": null,
            "grid_row": null,
            "grid_template_areas": null,
            "grid_template_columns": null,
            "grid_template_rows": null,
            "height": null,
            "justify_content": null,
            "justify_items": null,
            "left": null,
            "margin": null,
            "max_height": null,
            "max_width": null,
            "min_height": null,
            "min_width": null,
            "object_fit": null,
            "object_position": null,
            "order": null,
            "overflow": null,
            "overflow_x": null,
            "overflow_y": null,
            "padding": null,
            "right": null,
            "top": null,
            "visibility": null,
            "width": null
          }
        },
        "3ca1da03079342889cdb83ab16192739": {
          "model_module": "@jupyter-widgets/controls",
          "model_name": "DescriptionStyleModel",
          "model_module_version": "1.5.0",
          "state": {
            "_model_module": "@jupyter-widgets/controls",
            "_model_module_version": "1.5.0",
            "_model_name": "DescriptionStyleModel",
            "_view_count": null,
            "_view_module": "@jupyter-widgets/base",
            "_view_module_version": "1.2.0",
            "_view_name": "StyleView",
            "description_width": ""
          }
        },
        "7a10ee4321ff4a2699b91eb48f84b8d7": {
          "model_module": "@jupyter-widgets/controls",
          "model_name": "HBoxModel",
          "model_module_version": "1.5.0",
          "state": {
            "_dom_classes": [],
            "_model_module": "@jupyter-widgets/controls",
            "_model_module_version": "1.5.0",
            "_model_name": "HBoxModel",
            "_view_count": null,
            "_view_module": "@jupyter-widgets/controls",
            "_view_module_version": "1.5.0",
            "_view_name": "HBoxView",
            "box_style": "",
            "children": [
              "IPY_MODEL_f96982af25a640c2831dc5ba50ff3a67",
              "IPY_MODEL_58d40a4013ba4590bd24b1dbeea48185",
              "IPY_MODEL_e1c6caff9082401f8a4baa4a89770640"
            ],
            "layout": "IPY_MODEL_4ddb223ad2594279af0f4c2cdc2f3d35"
          }
        },
        "f96982af25a640c2831dc5ba50ff3a67": {
          "model_module": "@jupyter-widgets/controls",
          "model_name": "HTMLModel",
          "model_module_version": "1.5.0",
          "state": {
            "_dom_classes": [],
            "_model_module": "@jupyter-widgets/controls",
            "_model_module_version": "1.5.0",
            "_model_name": "HTMLModel",
            "_view_count": null,
            "_view_module": "@jupyter-widgets/controls",
            "_view_module_version": "1.5.0",
            "_view_name": "HTMLView",
            "description": "",
            "description_tooltip": null,
            "layout": "IPY_MODEL_c69592633281472b9a89cc7e8c3a5d81",
            "placeholder": "​",
            "style": "IPY_MODEL_65120db3efa2462f96cbb79f5bdd46b4",
            "value": "Downloading https://raw.githubusercontent.com/stanfordnlp/stanza-resources/main/resources_1.8.0.json: "
          }
        },
        "58d40a4013ba4590bd24b1dbeea48185": {
          "model_module": "@jupyter-widgets/controls",
          "model_name": "FloatProgressModel",
          "model_module_version": "1.5.0",
          "state": {
            "_dom_classes": [],
            "_model_module": "@jupyter-widgets/controls",
            "_model_module_version": "1.5.0",
            "_model_name": "FloatProgressModel",
            "_view_count": null,
            "_view_module": "@jupyter-widgets/controls",
            "_view_module_version": "1.5.0",
            "_view_name": "ProgressView",
            "bar_style": "success",
            "description": "",
            "description_tooltip": null,
            "layout": "IPY_MODEL_1b63b5251c6346ecbe8e6ae09d18db43",
            "max": 47208,
            "min": 0,
            "orientation": "horizontal",
            "style": "IPY_MODEL_054e251562b042dd96de24056f47e80c",
            "value": 47208
          }
        },
        "e1c6caff9082401f8a4baa4a89770640": {
          "model_module": "@jupyter-widgets/controls",
          "model_name": "HTMLModel",
          "model_module_version": "1.5.0",
          "state": {
            "_dom_classes": [],
            "_model_module": "@jupyter-widgets/controls",
            "_model_module_version": "1.5.0",
            "_model_name": "HTMLModel",
            "_view_count": null,
            "_view_module": "@jupyter-widgets/controls",
            "_view_module_version": "1.5.0",
            "_view_name": "HTMLView",
            "description": "",
            "description_tooltip": null,
            "layout": "IPY_MODEL_e158299da3754611bf9c83b71a653aa7",
            "placeholder": "​",
            "style": "IPY_MODEL_b85e0c6f8b7444cda3fb3fed2899cb24",
            "value": " 379k/? [00:00&lt;00:00, 8.93MB/s]"
          }
        },
        "4ddb223ad2594279af0f4c2cdc2f3d35": {
          "model_module": "@jupyter-widgets/base",
          "model_name": "LayoutModel",
          "model_module_version": "1.2.0",
          "state": {
            "_model_module": "@jupyter-widgets/base",
            "_model_module_version": "1.2.0",
            "_model_name": "LayoutModel",
            "_view_count": null,
            "_view_module": "@jupyter-widgets/base",
            "_view_module_version": "1.2.0",
            "_view_name": "LayoutView",
            "align_content": null,
            "align_items": null,
            "align_self": null,
            "border": null,
            "bottom": null,
            "display": null,
            "flex": null,
            "flex_flow": null,
            "grid_area": null,
            "grid_auto_columns": null,
            "grid_auto_flow": null,
            "grid_auto_rows": null,
            "grid_column": null,
            "grid_gap": null,
            "grid_row": null,
            "grid_template_areas": null,
            "grid_template_columns": null,
            "grid_template_rows": null,
            "height": null,
            "justify_content": null,
            "justify_items": null,
            "left": null,
            "margin": null,
            "max_height": null,
            "max_width": null,
            "min_height": null,
            "min_width": null,
            "object_fit": null,
            "object_position": null,
            "order": null,
            "overflow": null,
            "overflow_x": null,
            "overflow_y": null,
            "padding": null,
            "right": null,
            "top": null,
            "visibility": null,
            "width": null
          }
        },
        "c69592633281472b9a89cc7e8c3a5d81": {
          "model_module": "@jupyter-widgets/base",
          "model_name": "LayoutModel",
          "model_module_version": "1.2.0",
          "state": {
            "_model_module": "@jupyter-widgets/base",
            "_model_module_version": "1.2.0",
            "_model_name": "LayoutModel",
            "_view_count": null,
            "_view_module": "@jupyter-widgets/base",
            "_view_module_version": "1.2.0",
            "_view_name": "LayoutView",
            "align_content": null,
            "align_items": null,
            "align_self": null,
            "border": null,
            "bottom": null,
            "display": null,
            "flex": null,
            "flex_flow": null,
            "grid_area": null,
            "grid_auto_columns": null,
            "grid_auto_flow": null,
            "grid_auto_rows": null,
            "grid_column": null,
            "grid_gap": null,
            "grid_row": null,
            "grid_template_areas": null,
            "grid_template_columns": null,
            "grid_template_rows": null,
            "height": null,
            "justify_content": null,
            "justify_items": null,
            "left": null,
            "margin": null,
            "max_height": null,
            "max_width": null,
            "min_height": null,
            "min_width": null,
            "object_fit": null,
            "object_position": null,
            "order": null,
            "overflow": null,
            "overflow_x": null,
            "overflow_y": null,
            "padding": null,
            "right": null,
            "top": null,
            "visibility": null,
            "width": null
          }
        },
        "65120db3efa2462f96cbb79f5bdd46b4": {
          "model_module": "@jupyter-widgets/controls",
          "model_name": "DescriptionStyleModel",
          "model_module_version": "1.5.0",
          "state": {
            "_model_module": "@jupyter-widgets/controls",
            "_model_module_version": "1.5.0",
            "_model_name": "DescriptionStyleModel",
            "_view_count": null,
            "_view_module": "@jupyter-widgets/base",
            "_view_module_version": "1.2.0",
            "_view_name": "StyleView",
            "description_width": ""
          }
        },
        "1b63b5251c6346ecbe8e6ae09d18db43": {
          "model_module": "@jupyter-widgets/base",
          "model_name": "LayoutModel",
          "model_module_version": "1.2.0",
          "state": {
            "_model_module": "@jupyter-widgets/base",
            "_model_module_version": "1.2.0",
            "_model_name": "LayoutModel",
            "_view_count": null,
            "_view_module": "@jupyter-widgets/base",
            "_view_module_version": "1.2.0",
            "_view_name": "LayoutView",
            "align_content": null,
            "align_items": null,
            "align_self": null,
            "border": null,
            "bottom": null,
            "display": null,
            "flex": null,
            "flex_flow": null,
            "grid_area": null,
            "grid_auto_columns": null,
            "grid_auto_flow": null,
            "grid_auto_rows": null,
            "grid_column": null,
            "grid_gap": null,
            "grid_row": null,
            "grid_template_areas": null,
            "grid_template_columns": null,
            "grid_template_rows": null,
            "height": null,
            "justify_content": null,
            "justify_items": null,
            "left": null,
            "margin": null,
            "max_height": null,
            "max_width": null,
            "min_height": null,
            "min_width": null,
            "object_fit": null,
            "object_position": null,
            "order": null,
            "overflow": null,
            "overflow_x": null,
            "overflow_y": null,
            "padding": null,
            "right": null,
            "top": null,
            "visibility": null,
            "width": null
          }
        },
        "054e251562b042dd96de24056f47e80c": {
          "model_module": "@jupyter-widgets/controls",
          "model_name": "ProgressStyleModel",
          "model_module_version": "1.5.0",
          "state": {
            "_model_module": "@jupyter-widgets/controls",
            "_model_module_version": "1.5.0",
            "_model_name": "ProgressStyleModel",
            "_view_count": null,
            "_view_module": "@jupyter-widgets/base",
            "_view_module_version": "1.2.0",
            "_view_name": "StyleView",
            "bar_color": null,
            "description_width": ""
          }
        },
        "e158299da3754611bf9c83b71a653aa7": {
          "model_module": "@jupyter-widgets/base",
          "model_name": "LayoutModel",
          "model_module_version": "1.2.0",
          "state": {
            "_model_module": "@jupyter-widgets/base",
            "_model_module_version": "1.2.0",
            "_model_name": "LayoutModel",
            "_view_count": null,
            "_view_module": "@jupyter-widgets/base",
            "_view_module_version": "1.2.0",
            "_view_name": "LayoutView",
            "align_content": null,
            "align_items": null,
            "align_self": null,
            "border": null,
            "bottom": null,
            "display": null,
            "flex": null,
            "flex_flow": null,
            "grid_area": null,
            "grid_auto_columns": null,
            "grid_auto_flow": null,
            "grid_auto_rows": null,
            "grid_column": null,
            "grid_gap": null,
            "grid_row": null,
            "grid_template_areas": null,
            "grid_template_columns": null,
            "grid_template_rows": null,
            "height": null,
            "justify_content": null,
            "justify_items": null,
            "left": null,
            "margin": null,
            "max_height": null,
            "max_width": null,
            "min_height": null,
            "min_width": null,
            "object_fit": null,
            "object_position": null,
            "order": null,
            "overflow": null,
            "overflow_x": null,
            "overflow_y": null,
            "padding": null,
            "right": null,
            "top": null,
            "visibility": null,
            "width": null
          }
        },
        "b85e0c6f8b7444cda3fb3fed2899cb24": {
          "model_module": "@jupyter-widgets/controls",
          "model_name": "DescriptionStyleModel",
          "model_module_version": "1.5.0",
          "state": {
            "_model_module": "@jupyter-widgets/controls",
            "_model_module_version": "1.5.0",
            "_model_name": "DescriptionStyleModel",
            "_view_count": null,
            "_view_module": "@jupyter-widgets/base",
            "_view_module_version": "1.2.0",
            "_view_name": "StyleView",
            "description_width": ""
          }
        }
      }
    }
  },
  "cells": [
    {
      "cell_type": "markdown",
      "metadata": {
        "id": "view-in-github",
        "colab_type": "text"
      },
      "source": [
        "<a href=\"https://colab.research.google.com/github/LAVANYAVARANASI-123/Google-Cloud-Jam-Module-7/blob/main/nlpexternalpractice.ipynb\" target=\"_parent\"><img src=\"https://colab.research.google.com/assets/colab-badge.svg\" alt=\"Open In Colab\"/></a>"
      ]
    },
    {
      "cell_type": "markdown",
      "source": [
        "exercise 1"
      ],
      "metadata": {
        "id": "li4hmIG7U9rS"
      }
    },
    {
      "cell_type": "code",
      "execution_count": null,
      "metadata": {
        "colab": {
          "base_uri": "https://localhost:8080/"
        },
        "id": "Y3680R1m0KQu",
        "outputId": "8bdd0f01-d397-4977-9686-b86615761fce"
      },
      "outputs": [
        {
          "output_type": "stream",
          "name": "stdout",
          "text": [
            "this @code is very #easy to    do\n",
            "  @code   very #easy to    do\n",
            "this  is very  to    do\n"
          ]
        }
      ],
      "source": [
        "import re\n",
        "def noise_removal(text):\n",
        "  noise_words=['is','a','this']\n",
        "  clean_text=text\n",
        "  for word in noise_words:\n",
        "    pattern=r'\\b{}\\b'.format(word)\n",
        "    clean_text =re.sub(pattern,' ',clean_text)\n",
        "  hastagremoval=re.sub(r'#\\w+\\s|@\\w+\\s|\\s',' ',text)\n",
        "  return clean_text,hastagremoval\n",
        "text=\"this @code is very #easy to    do\"\n",
        "clean_text,hastagremoval=noise_removal(text)\n",
        "print(text)\n",
        "print(clean_text)\n",
        "print(hastagremoval)\n"
      ]
    },
    {
      "cell_type": "code",
      "source": [
        "import re\n",
        "def remove_urls(text):\n",
        "    # Regular expression pattern to match URLs\n",
        "    url_pattern = r'https?://\\S+|www\\.\\S+'\n",
        "    # Substitute URLs with an empty string\n",
        "    clean_text = re.sub(url_pattern, '', text)\n",
        "    return clean_text\n",
        "\n",
        "# Sample text containing URLs\n",
        "sample_text = \"Check out this website: https://www.example.com and also visit http://another-example.com for more information.\"\n",
        "\n",
        "# Test the function\n",
        "cleaned_text = remove_urls(sample_text)\n",
        "\n",
        "print(\"Original Text:\")\n",
        "print(sample_text)\n",
        "print(\"\\nCleaned Text:\")\n",
        "print(cleaned_text)\n"
      ],
      "metadata": {
        "colab": {
          "base_uri": "https://localhost:8080/"
        },
        "id": "dFpKayr6_T3_",
        "outputId": "c8e95208-a41a-42aa-b836-4052271a6880"
      },
      "execution_count": null,
      "outputs": [
        {
          "output_type": "stream",
          "name": "stdout",
          "text": [
            "Original Text:\n",
            "Check out this website: https://www.example.com and also visit http://another-example.com for more information.\n",
            "\n",
            "Cleaned Text:\n",
            "Check out this website:  and also visit  for more information.\n"
          ]
        }
      ]
    },
    {
      "cell_type": "code",
      "source": [
        "import re\n",
        "def extract_specific_emoticons(text):\n",
        "    # Regular expression pattern to match specific emoticons\n",
        "    emoticon_pattern = r'[:;]-?[)D]|;-\\)'\n",
        "    # Find all specific emoticons in the text\n",
        "    emoticons = re.findall(emoticon_pattern, text)\n",
        "    return emoticons\n",
        "\n",
        "# Sample text containing specific emoticons\n",
        "sample_text = \"Hello there! :) How are you? :-D I'm feeling great ;-) but also a bit tired :-/. Let's meet up soon! ^_^\"\n",
        "\n",
        "# Test the function\n",
        "extracted_emoticons = extract_specific_emoticons(sample_text)\n",
        "\n",
        "print(\"Original Text:\")\n",
        "print(sample_text)\n",
        "print(\"\\nExtracted Specific Emoticons:\")\n",
        "print(extracted_emoticons)\n"
      ],
      "metadata": {
        "colab": {
          "base_uri": "https://localhost:8080/"
        },
        "id": "DvYomaT8Ai_S",
        "outputId": "ade1f339-e5d5-49fb-9d1a-1321c1f78629"
      },
      "execution_count": null,
      "outputs": [
        {
          "output_type": "stream",
          "name": "stdout",
          "text": [
            "Original Text:\n",
            "Hello there! :) How are you? :-D I'm feeling great ;-) but also a bit tired :-/. Let's meet up soon! ^_^\n",
            "\n",
            "Extracted Specific Emoticons:\n",
            "[':)', ':-D', ';-)']\n"
          ]
        }
      ]
    },
    {
      "cell_type": "code",
      "source": [
        "import re\n",
        "\n",
        "def remove_special_characters(text):\n",
        "    # Regular expression pattern to match all characters except alphabets and numbers\n",
        "    special_char_pattern = r'[^a-zA-Z0-9\\s]'\n",
        "    # Substitute special characters with an empty string\n",
        "    clean_text = re.sub(special_char_pattern, '', text)\n",
        "    return clean_text\n",
        "\n",
        "# Sample text containing special characters\n",
        "sample_text = \"Hello there! How are you? This is a sample text with special characters: @, $, %, ^, &, *, (, ), -, +, =.\"\n",
        "\n",
        "# Test the function\n",
        "cleaned_text = remove_special_characters(sample_text)\n",
        "\n",
        "print(\"Original Text:\")\n",
        "print(sample_text)\n",
        "print(\"\\nCleaned Text:\")\n",
        "print(cleaned_text)\n"
      ],
      "metadata": {
        "colab": {
          "base_uri": "https://localhost:8080/"
        },
        "id": "pHHAxMoaCuD7",
        "outputId": "c58c0d31-a468-40ec-a2e2-2451425f1a7a"
      },
      "execution_count": null,
      "outputs": [
        {
          "output_type": "stream",
          "name": "stdout",
          "text": [
            "Original Text:\n",
            "Hello there! How are you? This is a sample text with special characters: @, $, %, ^, &, *, (, ), -, +, =.\n",
            "\n",
            "Cleaned Text:\n",
            "Hello there How are you This is a sample text with special characters           \n"
          ]
        }
      ]
    },
    {
      "cell_type": "markdown",
      "source": [
        "exercise 2"
      ],
      "metadata": {
        "id": "NfCsLlxtU4Lh"
      }
    },
    {
      "cell_type": "code",
      "source": [
        "import nltk\n",
        "nltk.download('punkt')\n",
        "nltk.download('wordnet')\n",
        "nltk.download('averaged_perceptron_tagger')\n",
        "from nltk.tokenize import word_tokenize\n",
        "from nltk.stem import PorterStemmer\n",
        "from nltk.stem import WordNetLemmatizer\n",
        "from nltk import pos_tag\n",
        "porter_stemmer = PorterStemmer()\n",
        "lemmatizer=WordNetLemmatizer()\n",
        "def toke_stem(text):\n",
        "  tokenizer= word_tokenize(text)\n",
        "  stemmer=[porter_stemmer.stem(word) for word in tokenizer]\n",
        "  return ' '.join(stemmer)\n",
        "def toke_lemm(text):\n",
        "  tokenizer= word_tokenize(text)\n",
        "  lemmatized=[lemmatizer.lemmatize(word) for word in tokenizer]\n",
        "  return ' '.join(lemmatized)\n",
        "def pos_tagger(text):\n",
        "  tokenizer=word_tokenize(text)\n",
        "  pos_tagged=pos_tag(tokenizer)\n",
        "  return pos_tagged\n",
        "text='the quick brown foxes jumped over lazy a dog'\n",
        "print(text)\n",
        "print(toke_stem(text))\n",
        "print(toke_lemm(text))\n",
        "print(pos_tagger(text))\n"
      ],
      "metadata": {
        "colab": {
          "base_uri": "https://localhost:8080/"
        },
        "id": "8_5frWFsgsEo",
        "outputId": "73cdf90c-f288-4197-a331-db50e23b159e"
      },
      "execution_count": null,
      "outputs": [
        {
          "output_type": "stream",
          "name": "stdout",
          "text": [
            "the quick brown foxes jumped over lazy a dog\n",
            "the quick brown fox jump over lazi a dog\n",
            "the quick brown fox jumped over lazy a dog\n",
            "[('the', 'DT'), ('quick', 'JJ'), ('brown', 'NN'), ('foxes', 'NNS'), ('jumped', 'VBD'), ('over', 'IN'), ('lazy', 'FW'), ('a', 'DT'), ('dog', 'NN')]\n"
          ]
        },
        {
          "output_type": "stream",
          "name": "stderr",
          "text": [
            "[nltk_data] Downloading package punkt to /root/nltk_data...\n",
            "[nltk_data]   Package punkt is already up-to-date!\n",
            "[nltk_data] Downloading package wordnet to /root/nltk_data...\n",
            "[nltk_data]   Package wordnet is already up-to-date!\n",
            "[nltk_data] Downloading package averaged_perceptron_tagger to\n",
            "[nltk_data]     /root/nltk_data...\n",
            "[nltk_data]   Package averaged_perceptron_tagger is already up-to-\n",
            "[nltk_data]       date!\n"
          ]
        }
      ]
    },
    {
      "cell_type": "code",
      "source": [
        "import nltk\n",
        "from nltk.tokenize import word_tokenize\n",
        "from nltk.stem import PorterStemmer, SnowballStemmer\n",
        "from nltk.corpus import stopwords\n",
        "\n",
        "# Download necessary NLTK data files\n",
        "nltk.download('punkt')\n",
        "nltk.download('stopwords')\n",
        "\n",
        "# Initialize the stemmers\n",
        "porter_stemmer = PorterStemmer()\n",
        "snowball_stemmer = SnowballStemmer(\"english\")\n",
        "\n",
        "def tokenize_and_stem(text, stemmer):\n",
        "    # Tokenize the text\n",
        "    tokens = word_tokenize(text)\n",
        "    # Remove stopwords\n",
        "    stop_words = set(stopwords.words('english'))\n",
        "    filtered_tokens = [token for token in tokens if token.lower() not in stop_words]\n",
        "    # Stem the tokens\n",
        "    stemmed_tokens = [stemmer.stem(token) for token in filtered_tokens]\n",
        "    return ' '.join(stemmed_tokens)\n",
        "\n",
        "# Sample text\n",
        "text = \"The quick brown foxes jumped over the lazy dogs. They were running quickly to catch the frisbee.\"\n",
        "\n",
        "# Stemming with Porter Stemmer\n",
        "porter_stemmed_text = tokenize_and_stem(text, porter_stemmer)\n",
        "\n",
        "# Stemming with Snowball Stemmer\n",
        "snowball_stemmed_text = tokenize_and_stem(text, snowball_stemmer)\n",
        "\n",
        "# Printing the results\n",
        "print(\"Original Text:\")\n",
        "print(text)\n",
        "print(\"\\nPorter Stemmed Text:\")\n",
        "print(porter_stemmed_text)\n",
        "print(\"\\nSnowball Stemmed Text:\")\n",
        "print(snowball_stemmed_text)\n"
      ],
      "metadata": {
        "colab": {
          "base_uri": "https://localhost:8080/"
        },
        "id": "eyH-7DYNnbEC",
        "outputId": "995efb04-31f3-47a7-a05a-0e25e965e944"
      },
      "execution_count": null,
      "outputs": [
        {
          "output_type": "stream",
          "name": "stderr",
          "text": [
            "[nltk_data] Downloading package punkt to /root/nltk_data...\n",
            "[nltk_data]   Unzipping tokenizers/punkt.zip.\n"
          ]
        },
        {
          "output_type": "stream",
          "name": "stdout",
          "text": [
            "Original Text:\n",
            "The quick brown foxes jumped over the lazy dogs. They were running quickly to catch the frisbee.\n",
            "\n",
            "Porter Stemmed Text:\n",
            "quick brown fox jump lazi dog . run quickli catch frisbe .\n",
            "\n",
            "Snowball Stemmed Text:\n",
            "quick brown fox jump lazi dog . run quick catch frisbe .\n"
          ]
        },
        {
          "output_type": "stream",
          "name": "stderr",
          "text": [
            "[nltk_data] Downloading package stopwords to /root/nltk_data...\n",
            "[nltk_data]   Unzipping corpora/stopwords.zip.\n"
          ]
        }
      ]
    },
    {
      "cell_type": "code",
      "source": [
        "import nltk\n",
        "from nltk.tokenize import word_tokenize\n",
        "from nltk.stem import WordNetLemmatizer\n",
        "from nltk.corpus import wordnet\n",
        "\n",
        "# Download necessary NLTK data files\n",
        "nltk.download('punkt')\n",
        "nltk.download('wordnet')\n",
        "\n",
        "# Initialize the lemmatizer\n",
        "lemmatizer = WordNetLemmatizer()\n",
        "\n",
        "# Custom dictionary for medical terms\n",
        "medical_terms = {\n",
        "    'diagnoses': 'diagnosis',\n",
        "    'diagnosing': 'diagnosis',\n",
        "    'diagnosed': 'diagnosis',\n",
        "    'symptoms': 'symptom',\n",
        "    'symptomatic': 'symptom',\n",
        "    'analyses': 'analysis',\n",
        "    'analysing': 'analysis',\n",
        "    'analyzed': 'analysis',\n",
        "    'biopsies': 'biopsy',\n",
        "    'biopsying': 'biopsy',\n",
        "    'metastases': 'metastasis',\n",
        "    'metastasized': 'metastasis',\n",
        "}\n",
        "\n",
        "def custom_lemmatize(token):\n",
        "    # Check if the token is in the custom dictionary\n",
        "    if token.lower() in medical_terms:\n",
        "        return medical_terms[token.lower()]\n",
        "    else:\n",
        "        # Use the standard lemmatizer\n",
        "        return lemmatizer.lemmatize(token)\n",
        "\n",
        "def lemmatize_text(text):\n",
        "    tokens = word_tokenize(text)\n",
        "    lemmatized_tokens = [custom_lemmatize(token) for token in tokens]\n",
        "    return ' '.join(lemmatized_tokens)\n",
        "\n",
        "# Sample medical text\n",
        "text = \"The patient was diagnosed with several metastases and underwent multiple biopsies. The symptoms were symptomatic of a severe diagnosis.\"\n",
        "\n",
        "# Apply the custom lemmatization\n",
        "lemmatized_text = lemmatize_text(text)\n",
        "\n",
        "print(\"Original Text:\")\n",
        "print(text)\n",
        "print(\"\\nLemmatized Text:\")\n",
        "print(lemmatized_text)\n"
      ],
      "metadata": {
        "colab": {
          "base_uri": "https://localhost:8080/"
        },
        "id": "L0Y1Zgol-m5s",
        "outputId": "d93104a5-8f09-4022-e1ec-67285d715d2e"
      },
      "execution_count": null,
      "outputs": [
        {
          "output_type": "stream",
          "name": "stderr",
          "text": [
            "[nltk_data] Downloading package punkt to /root/nltk_data...\n",
            "[nltk_data]   Package punkt is already up-to-date!\n",
            "[nltk_data] Downloading package wordnet to /root/nltk_data...\n"
          ]
        },
        {
          "output_type": "stream",
          "name": "stdout",
          "text": [
            "Original Text:\n",
            "The patient was diagnosed with several metastases and underwent multiple biopsies. The symptoms were symptomatic of a severe diagnosis.\n",
            "\n",
            "Lemmatized Text:\n",
            "The patient wa diagnosis with several metastasis and underwent multiple biopsy . The symptom were symptom of a severe diagnosis .\n"
          ]
        }
      ]
    },
    {
      "cell_type": "markdown",
      "source": [
        "exercise-3"
      ],
      "metadata": {
        "id": "h3tu6FUPBZrf"
      }
    },
    {
      "cell_type": "code",
      "source": [
        "slangs_map={\n",
        "    'lol':'laugh a lot',\n",
        "    'omg':'oh my god',\n",
        "    'tq':'thank you',\n",
        "    'atb':'all the best',\n",
        "    'hlo':'hello'\n",
        "}\n",
        "def standard_text(text,slangs_map):\n",
        "  for slangs,standard in slangs_map.items():\n",
        "    text=text.replace(slangs,standard)\n",
        "  return text\n",
        "text=\"hlo tq for suggesting the atb movie omg it was too lol\"\n",
        "print(text)\n",
        "print(standard_text(text,slangs_map))\n",
        "\n"
      ],
      "metadata": {
        "colab": {
          "base_uri": "https://localhost:8080/"
        },
        "id": "9-0L1GQnBcML",
        "outputId": "f668b407-ceca-4916-a56d-91a0e44fc418"
      },
      "execution_count": null,
      "outputs": [
        {
          "output_type": "stream",
          "name": "stdout",
          "text": [
            "hlo tq for suggesting the atb movie omg it was too lol\n",
            "hello thank you for suggesting the all the best movie oh my god it was too laugh a lot\n"
          ]
        }
      ]
    },
    {
      "cell_type": "code",
      "source": [
        "from collections import Counter\n",
        "\n",
        "# Define a dictionary for social media slangs and their standard forms\n",
        "slangs_map = {\n",
        "    \"lol\": \"laugh out loud\",\n",
        "    \"omg\": \"oh my god\",\n",
        "    \"hlo\": \"hello\",\n",
        "    \"tq\": \"thank you\"\n",
        "}\n",
        "\n",
        "# Function to standardize text and provide slang replacement statistics\n",
        "def standard_text(text, slangs_map):\n",
        "    slang_counter = Counter()\n",
        "    for slang, standard in slangs_map.items():\n",
        "        occurrences = text.count(slang)\n",
        "        if occurrences > 0:\n",
        "            slang_counter[slang] += occurrences\n",
        "            text = text.replace(slang, standard)\n",
        "    return text, slang_counter\n",
        "\n",
        "# Sample text containing social media slangs\n",
        "text = \"hlo the movie omg that you suggested was lol tq for it. hlo again!\"\n",
        "\n",
        "# Standardize the text and get the slang replacement statistics\n",
        "standardized_text, slang_counter = standard_text(text, slangs_map)\n",
        "\n",
        "# Print the results\n",
        "print(\"Original Text:\")\n",
        "print(text)\n",
        "print(\"\\nStandardized Text:\")\n",
        "print(standardized_text)\n",
        "print(\"\\nSlang Replacement Statistics:\")\n",
        "print(\"Total slangs replaced:\", sum(slang_counter.values()))\n",
        "print(\"Most common slangs and their frequencies:\", slang_counter.most_common())\n"
      ],
      "metadata": {
        "colab": {
          "base_uri": "https://localhost:8080/"
        },
        "id": "cYjVLMvUAa5Q",
        "outputId": "e9060d62-9a7c-471a-bfed-2ee010670468"
      },
      "execution_count": null,
      "outputs": [
        {
          "output_type": "stream",
          "name": "stdout",
          "text": [
            "Original Text:\n",
            "hlo the movie omg that you suggested was lol tq for it. hlo again!\n",
            "\n",
            "Standardized Text:\n",
            "hello the movie oh my god that you suggested was laugh out loud thank you for it. hello again!\n",
            "\n",
            "Slang Replacement Statistics:\n",
            "Total slangs replaced: 5\n",
            "Most common slangs and their frequencies: [('hlo', 2), ('lol', 1), ('omg', 1), ('tq', 1)]\n"
          ]
        }
      ]
    },
    {
      "cell_type": "code",
      "source": [
        "import re\n",
        "from collections import Counter\n",
        "\n",
        "# Define a dictionary for social media slangs and their standard forms\n",
        "slangs_map = {\n",
        "    \"lol\": \"laugh out loud\",\n",
        "    \"omg\": \"oh my god\",\n",
        "    \"hlo\": \"hello\",\n",
        "    \"tq\": \"thank you\"\n",
        "}\n",
        "\n",
        "# Function to standardize text and provide slang replacement statistics\n",
        "def standard_text(text, slangs_map):\n",
        "    slang_counter = Counter()\n",
        "    for slang, standard in slangs_map.items():\n",
        "        # Use regex to find whole word matches only\n",
        "        pattern = r'\\b{}\\b'.format(re.escape(slang))\n",
        "        occurrences = len(re.findall(pattern, text))\n",
        "        if occurrences > 0:\n",
        "            slang_counter[slang] += occurrences\n",
        "            text = re.sub(pattern, standard, text)\n",
        "    return text, slang_counter\n",
        "\n",
        "# Sample text containing social media slangs\n",
        "text = \"hlo the movie omg that you suggested was lol tq for it. hlo again!\"\n",
        "\n",
        "# Standardize the text and get the slang replacement statistics\n",
        "standardized_text, slang_counter = standard_text(text, slangs_map)\n",
        "\n",
        "# Print the results\n",
        "print(\"Original Text:\")\n",
        "print(text)\n",
        "print(\"\\nStandardized Text:\")\n",
        "print(standardized_text)\n",
        "print(\"\\nSlang Replacement Statistics:\")\n",
        "print(\"Total slangs replaced:\", sum(slang_counter.values()))\n",
        "print(\"Most common slangs and their frequencies:\", slang_counter.most_common())\n"
      ],
      "metadata": {
        "colab": {
          "base_uri": "https://localhost:8080/"
        },
        "id": "01k0jAHRjTQK",
        "outputId": "c1bda3da-fa63-419b-9791-5652072443db"
      },
      "execution_count": null,
      "outputs": [
        {
          "output_type": "stream",
          "name": "stdout",
          "text": [
            "Original Text:\n",
            "hlo the movie omg that you suggested was lol tq for it. hlo again!\n",
            "\n",
            "Standardized Text:\n",
            "hello the movie oh my god that you suggested was laugh out loud thank you for it. hello again!\n",
            "\n",
            "Slang Replacement Statistics:\n",
            "Total slangs replaced: 5\n",
            "Most common slangs and their frequencies: [('hlo', 2), ('lol', 1), ('omg', 1), ('tq', 1)]\n"
          ]
        }
      ]
    },
    {
      "cell_type": "code",
      "source": [
        "import re\n",
        "\n",
        "# Define a dictionary for social media slangs and their standard forms\n",
        "slangs_map = {\n",
        "    \"lol\": \"laugh out loud\",\n",
        "    \"omg\": \"oh my god\",\n",
        "    \"hlo\": \"hello\",\n",
        "    \"tq\": \"thank you\"\n",
        "}\n",
        "\n",
        "# Define a dictionary for emojis and their textual representations\n",
        "emoji_map = {\n",
        "    \"😀\": \"smile\",\n",
        "    \"😂\": \"laugh\",\n",
        "    \"😉\": \"wink\",\n",
        "    \"😍\": \"love\",\n",
        "    \"😭\": \"cry\",\n",
        "    \"😡\": \"angry\",\n",
        "    \"👍\": \"thumbs up\",\n",
        "    \"🙏\": \"pray\"\n",
        "}\n",
        "\n",
        "# Function to standardize text by replacing slangs and emojis\n",
        "def standardize_text(text, slangs_map, emoji_map):\n",
        "    # Replace slangs\n",
        "    for slang, standard in slangs_map.items():\n",
        "      text=text.replace(slang,standard)\n",
        "    return text\n",
        "    # Replace emojis\n",
        "    for emoji, description in emoji_map.items():\n",
        "        text = text.replace(emoji, description)\n",
        "\n",
        "    return text\n",
        "\n",
        "# Sample text containing social media slangs and emojis\n",
        "text = \"hlo the movie omg that you suggested was lol tq for it 😂. hlo again! 😀\"\n",
        "\n",
        "# Standardize the text\n",
        "standardized_text = standardize_text(text, slangs_map, emoji_map)\n",
        "\n",
        "# Print the results\n",
        "print(\"Original Text:\")\n",
        "print(text)\n",
        "print(\"\\nStandardized Text:\")\n",
        "print(standardized_text)\n"
      ],
      "metadata": {
        "colab": {
          "base_uri": "https://localhost:8080/"
        },
        "id": "9g_K4VjJpEpp",
        "outputId": "99023a81-eca0-4953-a257-494accb3af13"
      },
      "execution_count": null,
      "outputs": [
        {
          "output_type": "stream",
          "name": "stdout",
          "text": [
            "Original Text:\n",
            "hlo the movie omg that you suggested was lol tq for it 😂. hlo again! 😀\n",
            "\n",
            "Standardized Text:\n",
            "hello the movie oh my god that you suggested was laugh out loud thank you for it 😂. hello again! 😀\n"
          ]
        }
      ]
    },
    {
      "cell_type": "markdown",
      "source": [
        "exercise 4"
      ],
      "metadata": {
        "id": "_ZStQFkKLMmr"
      }
    },
    {
      "cell_type": "code",
      "source": [
        "import nltk\n",
        "from nltk.tokenize import word_tokenize\n",
        "from nltk import pos_tag\n",
        "nltk.download('punkt')\n",
        "nltk.download('averaged_perceptron_tagger')\n",
        "def pos_tagger(text):\n",
        "  tokens=word_tokenize(text)\n",
        "  pos_tagged=pos_tag(tokens)\n",
        "  return pos_tagged\n",
        "text='the quick brown foxes jumped over lazy a dog'\n",
        "pos_tagg=pos_tagger(text)\n",
        "print(text)\n",
        "print(pos_tagg)"
      ],
      "metadata": {
        "colab": {
          "base_uri": "https://localhost:8080/"
        },
        "id": "VUKH4L7YLOJG",
        "outputId": "c3d954c5-faf8-43dc-d918-530fcd02d1ab"
      },
      "execution_count": null,
      "outputs": [
        {
          "output_type": "stream",
          "name": "stdout",
          "text": [
            "the quick brown foxes jumped over lazy a dog\n",
            "[('the', 'DT'), ('quick', 'JJ'), ('brown', 'NN'), ('foxes', 'NNS'), ('jumped', 'VBD'), ('over', 'IN'), ('lazy', 'FW'), ('a', 'DT'), ('dog', 'NN')]\n"
          ]
        },
        {
          "output_type": "stream",
          "name": "stderr",
          "text": [
            "[nltk_data] Downloading package punkt to /root/nltk_data...\n",
            "[nltk_data]   Package punkt is already up-to-date!\n",
            "[nltk_data] Downloading package averaged_perceptron_tagger to\n",
            "[nltk_data]     /root/nltk_data...\n",
            "[nltk_data]   Package averaged_perceptron_tagger is already up-to-\n",
            "[nltk_data]       date!\n"
          ]
        }
      ]
    },
    {
      "cell_type": "code",
      "source": [
        "import nltk\n",
        "\n",
        "# Download necessary NLTK data\n",
        "nltk.download('punkt')\n",
        "nltk.download('averaged_perceptron_tagger')\n",
        "nltk.download('maxent_ne_chunker')\n",
        "nltk.download('words')\n",
        "\n",
        "def pos_tagging_and_ner(text):\n",
        "    # Tokenize the text into words\n",
        "    tokens = nltk.word_tokenize(text)\n",
        "\n",
        "    # Perform POS tagging\n",
        "    pos_tags = nltk.pos_tag(tokens)\n",
        "\n",
        "    # Perform Named Entity Recognition\n",
        "    named_entities = nltk.ne_chunk(pos_tags)\n",
        "\n",
        "    return pos_tags, named_entities\n",
        "\n",
        "# Sample text\n",
        "text = \"Barack Obama was born on August 4, 1961, in Honolulu, Hawaii.\"\n",
        "\n",
        "# Perform POS tagging and NER\n",
        "pos_tags, named_entities = pos_tagging_and_ner(text)\n",
        "\n",
        "# Print POS tags\n",
        "print(\"Part of Speech Tags:\")\n",
        "print(text)\n",
        "print(pos_tags)\n",
        "\n",
        "#or for token, pos in pos_tags:\n",
        "   # print(f\"{token}: {pos}\")\n",
        "\n",
        "# Print Named Entities\n",
        "print(\"\\nNamed Entities:\")\n",
        "print(named_entities)\n"
      ],
      "metadata": {
        "colab": {
          "base_uri": "https://localhost:8080/"
        },
        "id": "BoIU2PhLNbhD",
        "outputId": "6836052f-36e2-40b2-9baa-3b06999aaa85"
      },
      "execution_count": null,
      "outputs": [
        {
          "output_type": "stream",
          "name": "stdout",
          "text": [
            "Part of Speech Tags:\n",
            "Barack Obama was born on August 4, 1961, in Honolulu, Hawaii.\n",
            "[('Barack', 'NNP'), ('Obama', 'NNP'), ('was', 'VBD'), ('born', 'VBN'), ('on', 'IN'), ('August', 'NNP'), ('4', 'CD'), (',', ','), ('1961', 'CD'), (',', ','), ('in', 'IN'), ('Honolulu', 'NNP'), (',', ','), ('Hawaii', 'NNP'), ('.', '.')]\n",
            "\n",
            "Named Entities:\n",
            "(S\n",
            "  (PERSON Barack/NNP)\n",
            "  (PERSON Obama/NNP)\n",
            "  was/VBD\n",
            "  born/VBN\n",
            "  on/IN\n",
            "  August/NNP\n",
            "  4/CD\n",
            "  ,/,\n",
            "  1961/CD\n",
            "  ,/,\n",
            "  in/IN\n",
            "  (GPE Honolulu/NNP)\n",
            "  ,/,\n",
            "  (GPE Hawaii/NNP)\n",
            "  ./.)\n"
          ]
        },
        {
          "output_type": "stream",
          "name": "stderr",
          "text": [
            "[nltk_data] Downloading package punkt to /root/nltk_data...\n",
            "[nltk_data]   Package punkt is already up-to-date!\n",
            "[nltk_data] Downloading package averaged_perceptron_tagger to\n",
            "[nltk_data]     /root/nltk_data...\n",
            "[nltk_data]   Package averaged_perceptron_tagger is already up-to-\n",
            "[nltk_data]       date!\n",
            "[nltk_data] Downloading package maxent_ne_chunker to\n",
            "[nltk_data]     /root/nltk_data...\n",
            "[nltk_data]   Package maxent_ne_chunker is already up-to-date!\n",
            "[nltk_data] Downloading package words to /root/nltk_data...\n",
            "[nltk_data]   Package words is already up-to-date!\n"
          ]
        }
      ]
    },
    {
      "cell_type": "code",
      "source": [
        "import spacy\n",
        "from textblob import TextBlob\n",
        "import stanza\n",
        "\n",
        "# Load SpaCy's English language model\n",
        "spacy_nlp = spacy.load('en_core_web_sm')\n",
        "\n",
        "# Download the English model for Stanza\n",
        "stanza.download('en')\n",
        "# Initialize the Stanza pipeline\n",
        "stanza_nlp = stanza.Pipeline('en')\n",
        "\n",
        "def spacy_pos_tagging(text):\n",
        "    doc = spacy_nlp(text)\n",
        "    return [(token.text, token.pos_) for token in doc]\n",
        "\n",
        "def textblob_pos_tagging(text):\n",
        "    blob = TextBlob(text)\n",
        "    return blob.tags\n",
        "\n",
        "def stanza_pos_tagging(text):\n",
        "    doc = stanza_nlp(text)\n",
        "    pos_tags = [(word.text, word.upos) for sentence in doc.sentences for word in sentence.words]\n",
        "    return pos_tags\n",
        "\n",
        "# Sample text\n",
        "text = \"Barack Obama was born on August 4, 1961, in Honolulu, Hawaii.\"\n",
        "\n",
        "# Perform POS tagging using different libraries\n",
        "spacy_tags = spacy_pos_tagging(text)\n",
        "textblob_tags = textblob_pos_tagging(text)\n",
        "stanza_tags = stanza_pos_tagging(text)\n",
        "\n",
        "# Print results\n",
        "print(\"SpaCy POS Tags:\")\n",
        "print(spacy_tags)\n",
        "\n",
        "print(\"\\nTextBlob POS Tags:\")\n",
        "print(textblob_tags)\n",
        "\n",
        "print(\"\\nStanfordNLP (Stanza) POS Tags:\")\n",
        "print(stanza_tags)\n"
      ],
      "metadata": {
        "colab": {
          "base_uri": "https://localhost:8080/",
          "height": 812,
          "referenced_widgets": [
            "73d4f5c00c924a94ac2a578835cd9533",
            "2d164c11cef8408e94b88ab7a1095069",
            "b8f02f4f228f464b8d19e73102c36ed9",
            "27853307f58d4228935ceccc5f27b3d1",
            "105e22850f09492b90baaa70cdbda921",
            "86e0b04f620c4bc689dc81f6f816010b",
            "58589402e9bb4daca37b000af1540198",
            "8231548a02de4902818765615bcf272b",
            "fc1eb92366be458088ecfd329570ff12",
            "3edc48e2ef224bb6b05a53a85d42090b",
            "64b412a10f93439c9c90ab7073f1b749",
            "fced17efb70c4fd8857d3f13b0965034",
            "435d8d83bc7f4ab49d06da1cd3a51227",
            "108cb9fae10143c592cd87bb6ee5d4ca",
            "d2c869c25cab4d6d905faec8cb989ee4",
            "aca0eb541bb0457eb5df0c8a4da60109",
            "df6f81677fb5471282e2df17a5921438",
            "95c53328a88b4c878fd8ce437d8f3de8",
            "3c7c00b00fae48e192b95802f9a70cf7",
            "880be2eade564135b0c9d0ec62cf1c96",
            "ade22a6013794b6596f5682b0e0fd119",
            "3ca1da03079342889cdb83ab16192739",
            "7a10ee4321ff4a2699b91eb48f84b8d7",
            "f96982af25a640c2831dc5ba50ff3a67",
            "58d40a4013ba4590bd24b1dbeea48185",
            "e1c6caff9082401f8a4baa4a89770640",
            "4ddb223ad2594279af0f4c2cdc2f3d35",
            "c69592633281472b9a89cc7e8c3a5d81",
            "65120db3efa2462f96cbb79f5bdd46b4",
            "1b63b5251c6346ecbe8e6ae09d18db43",
            "054e251562b042dd96de24056f47e80c",
            "e158299da3754611bf9c83b71a653aa7",
            "b85e0c6f8b7444cda3fb3fed2899cb24"
          ]
        },
        "id": "D4GqUdAzbFxi",
        "outputId": "aff607d8-78c8-49e6-eed6-c1b087d6803c"
      },
      "execution_count": null,
      "outputs": [
        {
          "output_type": "display_data",
          "data": {
            "text/plain": [
              "Downloading https://raw.githubusercontent.com/stanfordnlp/stanza-resources/main/resources_1.8.0.json:   0%|   …"
            ],
            "application/vnd.jupyter.widget-view+json": {
              "version_major": 2,
              "version_minor": 0,
              "model_id": "73d4f5c00c924a94ac2a578835cd9533"
            }
          },
          "metadata": {}
        },
        {
          "output_type": "stream",
          "name": "stderr",
          "text": [
            "INFO:stanza:Downloaded file to /root/stanza_resources/resources.json\n",
            "INFO:stanza:Downloading default packages for language: en (English) ...\n"
          ]
        },
        {
          "output_type": "display_data",
          "data": {
            "text/plain": [
              "Downloading https://huggingface.co/stanfordnlp/stanza-en/resolve/v1.8.0/models/default.zip:   0%|          | 0…"
            ],
            "application/vnd.jupyter.widget-view+json": {
              "version_major": 2,
              "version_minor": 0,
              "model_id": "fced17efb70c4fd8857d3f13b0965034"
            }
          },
          "metadata": {}
        },
        {
          "output_type": "stream",
          "name": "stderr",
          "text": [
            "INFO:stanza:Downloaded file to /root/stanza_resources/en/default.zip\n",
            "INFO:stanza:Finished downloading models and saved to /root/stanza_resources\n",
            "INFO:stanza:Checking for updates to resources.json in case models have been updated.  Note: this behavior can be turned off with download_method=None or download_method=DownloadMethod.REUSE_RESOURCES\n"
          ]
        },
        {
          "output_type": "display_data",
          "data": {
            "text/plain": [
              "Downloading https://raw.githubusercontent.com/stanfordnlp/stanza-resources/main/resources_1.8.0.json:   0%|   …"
            ],
            "application/vnd.jupyter.widget-view+json": {
              "version_major": 2,
              "version_minor": 0,
              "model_id": "7a10ee4321ff4a2699b91eb48f84b8d7"
            }
          },
          "metadata": {}
        },
        {
          "output_type": "stream",
          "name": "stderr",
          "text": [
            "INFO:stanza:Downloaded file to /root/stanza_resources/resources.json\n",
            "INFO:stanza:Loading these models for language: en (English):\n",
            "============================================\n",
            "| Processor    | Package                   |\n",
            "--------------------------------------------\n",
            "| tokenize     | combined                  |\n",
            "| mwt          | combined                  |\n",
            "| pos          | combined_charlm           |\n",
            "| lemma        | combined_nocharlm         |\n",
            "| constituency | ptb3-revised_charlm       |\n",
            "| depparse     | combined_charlm           |\n",
            "| sentiment    | sstplus_charlm            |\n",
            "| ner          | ontonotes-ww-multi_charlm |\n",
            "============================================\n",
            "\n",
            "INFO:stanza:Using device: cpu\n",
            "INFO:stanza:Loading: tokenize\n",
            "INFO:stanza:Loading: mwt\n",
            "INFO:stanza:Loading: pos\n",
            "INFO:stanza:Loading: lemma\n",
            "INFO:stanza:Loading: constituency\n",
            "INFO:stanza:Loading: depparse\n",
            "INFO:stanza:Loading: sentiment\n",
            "INFO:stanza:Loading: ner\n",
            "INFO:stanza:Done loading processors!\n"
          ]
        },
        {
          "output_type": "stream",
          "name": "stdout",
          "text": [
            "SpaCy POS Tags:\n",
            "[('Barack', 'PROPN'), ('Obama', 'PROPN'), ('was', 'AUX'), ('born', 'VERB'), ('on', 'ADP'), ('August', 'PROPN'), ('4', 'NUM'), (',', 'PUNCT'), ('1961', 'NUM'), (',', 'PUNCT'), ('in', 'ADP'), ('Honolulu', 'PROPN'), (',', 'PUNCT'), ('Hawaii', 'PROPN'), ('.', 'PUNCT')]\n",
            "\n",
            "TextBlob POS Tags:\n",
            "[('Barack', 'NNP'), ('Obama', 'NNP'), ('was', 'VBD'), ('born', 'VBN'), ('on', 'IN'), ('August', 'NNP'), ('4', 'CD'), ('1961', 'CD'), ('in', 'IN'), ('Honolulu', 'NNP'), ('Hawaii', 'NNP')]\n",
            "\n",
            "StanfordNLP (Stanza) POS Tags:\n",
            "[('Barack', 'PROPN'), ('Obama', 'PROPN'), ('was', 'AUX'), ('born', 'VERB'), ('on', 'ADP'), ('August', 'PROPN'), ('4', 'NUM'), (',', 'PUNCT'), ('1961', 'NUM'), (',', 'PUNCT'), ('in', 'ADP'), ('Honolulu', 'PROPN'), (',', 'PUNCT'), ('Hawaii', 'PROPN'), ('.', 'PUNCT')]\n"
          ]
        }
      ]
    },
    {
      "cell_type": "markdown",
      "source": [
        "exercise -5"
      ],
      "metadata": {
        "id": "uHPBFtV1kr0E"
      }
    },
    {
      "cell_type": "code",
      "source": [
        "!pip install gensim nltk\n",
        "!pip install smart_open==5.1.0\n",
        "!pip install --upgrade gensim smart_open\n",
        "!pip uninstall gensim smart_open\n",
        "!pip install gensim smart_open\n",
        "\n",
        "\n",
        "# Download NLTK data\n",
        "!python -m nltk.downloader stopwords\n",
        "!python -m nltk.downloader punkt\n",
        "\n",
        "import gensim\n",
        "import gensim.corpora as corpora\n",
        "from gensim.models import LdaModel\n",
        "import nltk\n",
        "from nltk.corpus import stopwords\n",
        "from nltk.tokenize import word_tokenize\n",
        "import string\n",
        "\n",
        "# Sample text data\n",
        "text_data = [\n",
        "    \"Barack Obama was born on August 4, 1961, in Honolulu, Hawaii.\",\n",
        "    \"Donald Trump was the 45th President of the United States.\",\n",
        "    \"The quick brown fox jumps over the lazy dog.\",\n",
        "    \"Python is a high-level, interpreted programming language.\"\n",
        "]\n",
        "\n",
        "# Preprocess text data\n",
        "def preprocess_text(text):\n",
        "    # Tokenize\n",
        "    tokens = word_tokenize(text.lower())\n",
        "    # Remove punctuation\n",
        "    tokens = [word for word in tokens if word.isalnum()]\n",
        "    # Remove stopwords\n",
        "    tokens = [word for word in tokens if word not in stopwords.words('english')]\n",
        "    return tokens\n",
        "\n",
        "# Apply preprocessing\n",
        "processed_data = [preprocess_text(text) for text in text_data]\n",
        "\n",
        "# Create dictionary and corpus\n",
        "dictionary = corpora.Dictionary(processed_data)\n",
        "corpus = [dictionary.doc2bow(text) for text in processed_data]\n",
        "\n",
        "# Train LDA model\n",
        "lda_model = LdaModel(corpus=corpus, id2word=dictionary, num_topics=2, random_state=42, passes=10, per_word_topics=True)\n",
        "\n",
        "# Display topics\n",
        "for idx, topic in lda_model.print_topics(-1):\n",
        "    print(f\"Topic: {idx} \\nWords: {topic}\\n\")\n",
        "\n",
        "# Save the model for later use\n",
        "lda_model.save(\"lda_model.model\")"
      ],
      "metadata": {
        "colab": {
          "base_uri": "https://localhost:8080/",
          "height": 1000
        },
        "id": "CXQqmBKqkKw-",
        "outputId": "fb9a56c2-00c9-4119-bc1c-1c53b8d23e57"
      },
      "execution_count": null,
      "outputs": [
        {
          "output_type": "stream",
          "name": "stdout",
          "text": [
            "Requirement already satisfied: gensim in /usr/local/lib/python3.10/dist-packages (4.3.2)\n",
            "Requirement already satisfied: nltk in /usr/local/lib/python3.10/dist-packages (3.8.1)\n",
            "Requirement already satisfied: numpy>=1.18.5 in /usr/local/lib/python3.10/dist-packages (from gensim) (1.25.2)\n",
            "Requirement already satisfied: scipy>=1.7.0 in /usr/local/lib/python3.10/dist-packages (from gensim) (1.11.4)\n",
            "Requirement already satisfied: smart-open>=1.8.1 in /usr/local/lib/python3.10/dist-packages (from gensim) (7.0.4)\n",
            "Requirement already satisfied: click in /usr/local/lib/python3.10/dist-packages (from nltk) (8.1.7)\n",
            "Requirement already satisfied: joblib in /usr/local/lib/python3.10/dist-packages (from nltk) (1.4.2)\n",
            "Requirement already satisfied: regex>=2021.8.3 in /usr/local/lib/python3.10/dist-packages (from nltk) (2024.5.15)\n",
            "Requirement already satisfied: tqdm in /usr/local/lib/python3.10/dist-packages (from nltk) (4.66.4)\n",
            "Requirement already satisfied: wrapt in /usr/local/lib/python3.10/dist-packages (from smart-open>=1.8.1->gensim) (1.14.1)\n",
            "Collecting smart_open==5.1.0\n",
            "  Using cached smart_open-5.1.0-py3-none-any.whl (57 kB)\n",
            "Installing collected packages: smart_open\n",
            "  Attempting uninstall: smart_open\n",
            "    Found existing installation: smart-open 7.0.4\n",
            "    Uninstalling smart-open-7.0.4:\n",
            "      Successfully uninstalled smart-open-7.0.4\n",
            "\u001b[31mERROR: pip's dependency resolver does not currently take into account all the packages that are installed. This behaviour is the source of the following dependency conflicts.\n",
            "spacy 3.7.4 requires smart-open<7.0.0,>=5.2.1, but you have smart-open 5.1.0 which is incompatible.\n",
            "weasel 0.3.4 requires smart-open<7.0.0,>=5.2.1, but you have smart-open 5.1.0 which is incompatible.\u001b[0m\u001b[31m\n",
            "\u001b[0mSuccessfully installed smart_open-5.1.0\n",
            "Requirement already satisfied: gensim in /usr/local/lib/python3.10/dist-packages (4.3.2)\n",
            "Requirement already satisfied: smart_open in /usr/local/lib/python3.10/dist-packages (5.1.0)\n",
            "Collecting smart_open\n",
            "  Using cached smart_open-7.0.4-py3-none-any.whl (61 kB)\n",
            "Requirement already satisfied: numpy>=1.18.5 in /usr/local/lib/python3.10/dist-packages (from gensim) (1.25.2)\n",
            "Requirement already satisfied: scipy>=1.7.0 in /usr/local/lib/python3.10/dist-packages (from gensim) (1.11.4)\n",
            "Requirement already satisfied: wrapt in /usr/local/lib/python3.10/dist-packages (from smart_open) (1.14.1)\n",
            "Installing collected packages: smart_open\n",
            "  Attempting uninstall: smart_open\n",
            "    Found existing installation: smart-open 5.1.0\n",
            "    Uninstalling smart-open-5.1.0:\n",
            "      Successfully uninstalled smart-open-5.1.0\n",
            "\u001b[31mERROR: pip's dependency resolver does not currently take into account all the packages that are installed. This behaviour is the source of the following dependency conflicts.\n",
            "spacy 3.7.4 requires smart-open<7.0.0,>=5.2.1, but you have smart-open 7.0.4 which is incompatible.\n",
            "weasel 0.3.4 requires smart-open<7.0.0,>=5.2.1, but you have smart-open 7.0.4 which is incompatible.\u001b[0m\u001b[31m\n",
            "\u001b[0mSuccessfully installed smart_open-7.0.4\n",
            "Found existing installation: gensim 4.3.2\n",
            "Uninstalling gensim-4.3.2:\n",
            "  Would remove:\n",
            "    /usr/local/lib/python3.10/dist-packages/gensim-4.3.2.dist-info/*\n",
            "    /usr/local/lib/python3.10/dist-packages/gensim/*\n",
            "Proceed (Y/n)? Y\n",
            "  Successfully uninstalled gensim-4.3.2\n",
            "Found existing installation: smart-open 7.0.4\n",
            "Uninstalling smart-open-7.0.4:\n",
            "  Would remove:\n",
            "    /usr/local/lib/python3.10/dist-packages/smart_open-7.0.4.dist-info/*\n",
            "    /usr/local/lib/python3.10/dist-packages/smart_open/*\n",
            "Proceed (Y/n)? y\n",
            "  Successfully uninstalled smart-open-7.0.4\n",
            "Collecting gensim\n",
            "  Downloading gensim-4.3.2-cp310-cp310-manylinux_2_17_x86_64.manylinux2014_x86_64.whl (26.5 MB)\n",
            "\u001b[2K     \u001b[90m━━━━━━━━━━━━━━━━━━━━━━━━━━━━━━━━━━━━━━━━\u001b[0m \u001b[32m26.5/26.5 MB\u001b[0m \u001b[31m31.7 MB/s\u001b[0m eta \u001b[36m0:00:00\u001b[0m\n",
            "\u001b[?25hCollecting smart_open\n",
            "  Using cached smart_open-7.0.4-py3-none-any.whl (61 kB)\n",
            "Requirement already satisfied: numpy>=1.18.5 in /usr/local/lib/python3.10/dist-packages (from gensim) (1.25.2)\n",
            "Requirement already satisfied: scipy>=1.7.0 in /usr/local/lib/python3.10/dist-packages (from gensim) (1.11.4)\n",
            "Requirement already satisfied: wrapt in /usr/local/lib/python3.10/dist-packages (from smart_open) (1.14.1)\n",
            "Installing collected packages: smart_open, gensim\n",
            "\u001b[31mERROR: pip's dependency resolver does not currently take into account all the packages that are installed. This behaviour is the source of the following dependency conflicts.\n",
            "spacy 3.7.4 requires smart-open<7.0.0,>=5.2.1, but you have smart-open 7.0.4 which is incompatible.\n",
            "weasel 0.3.4 requires smart-open<7.0.0,>=5.2.1, but you have smart-open 7.0.4 which is incompatible.\u001b[0m\u001b[31m\n",
            "\u001b[0mSuccessfully installed gensim-4.3.2 smart_open-7.0.4\n",
            "/usr/lib/python3.10/runpy.py:126: RuntimeWarning: 'nltk.downloader' found in sys.modules after import of package 'nltk', but prior to execution of 'nltk.downloader'; this may result in unpredictable behaviour\n",
            "  warn(RuntimeWarning(msg))\n",
            "[nltk_data] Downloading package stopwords to /root/nltk_data...\n",
            "[nltk_data]   Package stopwords is already up-to-date!\n",
            "/usr/lib/python3.10/runpy.py:126: RuntimeWarning: 'nltk.downloader' found in sys.modules after import of package 'nltk', but prior to execution of 'nltk.downloader'; this may result in unpredictable behaviour\n",
            "  warn(RuntimeWarning(msg))\n",
            "[nltk_data] Downloading package punkt to /root/nltk_data...\n",
            "[nltk_data]   Package punkt is already up-to-date!\n"
          ]
        },
        {
          "output_type": "error",
          "ename": "AttributeError",
          "evalue": "partially initialized module 'smart_open' has no attribute 'local_file' (most likely due to a circular import)",
          "traceback": [
            "\u001b[0;31m---------------------------------------------------------------------------\u001b[0m",
            "\u001b[0;31mAttributeError\u001b[0m                            Traceback (most recent call last)",
            "\u001b[0;32m<ipython-input-32-1c08c57b807e>\u001b[0m in \u001b[0;36m<cell line: 12>\u001b[0;34m()\u001b[0m\n\u001b[1;32m     10\u001b[0m \u001b[0mget_ipython\u001b[0m\u001b[0;34m(\u001b[0m\u001b[0;34m)\u001b[0m\u001b[0;34m.\u001b[0m\u001b[0msystem\u001b[0m\u001b[0;34m(\u001b[0m\u001b[0;34m'python -m nltk.downloader punkt'\u001b[0m\u001b[0;34m)\u001b[0m\u001b[0;34m\u001b[0m\u001b[0;34m\u001b[0m\u001b[0m\n\u001b[1;32m     11\u001b[0m \u001b[0;34m\u001b[0m\u001b[0m\n\u001b[0;32m---> 12\u001b[0;31m \u001b[0;32mimport\u001b[0m \u001b[0mgensim\u001b[0m\u001b[0;34m\u001b[0m\u001b[0;34m\u001b[0m\u001b[0m\n\u001b[0m\u001b[1;32m     13\u001b[0m \u001b[0;32mimport\u001b[0m \u001b[0mgensim\u001b[0m\u001b[0;34m.\u001b[0m\u001b[0mcorpora\u001b[0m \u001b[0;32mas\u001b[0m \u001b[0mcorpora\u001b[0m\u001b[0;34m\u001b[0m\u001b[0;34m\u001b[0m\u001b[0m\n\u001b[1;32m     14\u001b[0m \u001b[0;32mfrom\u001b[0m \u001b[0mgensim\u001b[0m\u001b[0;34m.\u001b[0m\u001b[0mmodels\u001b[0m \u001b[0;32mimport\u001b[0m \u001b[0mLdaModel\u001b[0m\u001b[0;34m\u001b[0m\u001b[0;34m\u001b[0m\u001b[0m\n",
            "\u001b[0;32m/usr/local/lib/python3.10/dist-packages/gensim/__init__.py\u001b[0m in \u001b[0;36m<module>\u001b[0;34m\u001b[0m\n\u001b[1;32m      9\u001b[0m \u001b[0;32mimport\u001b[0m \u001b[0mlogging\u001b[0m\u001b[0;34m\u001b[0m\u001b[0;34m\u001b[0m\u001b[0m\n\u001b[1;32m     10\u001b[0m \u001b[0;34m\u001b[0m\u001b[0m\n\u001b[0;32m---> 11\u001b[0;31m \u001b[0;32mfrom\u001b[0m \u001b[0mgensim\u001b[0m \u001b[0;32mimport\u001b[0m \u001b[0mparsing\u001b[0m\u001b[0;34m,\u001b[0m \u001b[0mcorpora\u001b[0m\u001b[0;34m,\u001b[0m \u001b[0mmatutils\u001b[0m\u001b[0;34m,\u001b[0m \u001b[0minterfaces\u001b[0m\u001b[0;34m,\u001b[0m \u001b[0mmodels\u001b[0m\u001b[0;34m,\u001b[0m \u001b[0msimilarities\u001b[0m\u001b[0;34m,\u001b[0m \u001b[0mutils\u001b[0m  \u001b[0;31m# noqa:F401\u001b[0m\u001b[0;34m\u001b[0m\u001b[0;34m\u001b[0m\u001b[0m\n\u001b[0m\u001b[1;32m     12\u001b[0m \u001b[0;34m\u001b[0m\u001b[0m\n\u001b[1;32m     13\u001b[0m \u001b[0;34m\u001b[0m\u001b[0m\n",
            "\u001b[0;32m/usr/local/lib/python3.10/dist-packages/gensim/parsing/__init__.py\u001b[0m in \u001b[0;36m<module>\u001b[0;34m\u001b[0m\n\u001b[1;32m      2\u001b[0m \u001b[0;34m\u001b[0m\u001b[0m\n\u001b[1;32m      3\u001b[0m \u001b[0;32mfrom\u001b[0m \u001b[0;34m.\u001b[0m\u001b[0mporter\u001b[0m \u001b[0;32mimport\u001b[0m \u001b[0mPorterStemmer\u001b[0m  \u001b[0;31m# noqa:F401\u001b[0m\u001b[0;34m\u001b[0m\u001b[0;34m\u001b[0m\u001b[0m\n\u001b[0;32m----> 4\u001b[0;31m from .preprocessing import (  # noqa:F401\n\u001b[0m\u001b[1;32m      5\u001b[0m     \u001b[0mpreprocess_documents\u001b[0m\u001b[0;34m,\u001b[0m\u001b[0;34m\u001b[0m\u001b[0;34m\u001b[0m\u001b[0m\n\u001b[1;32m      6\u001b[0m     \u001b[0mpreprocess_string\u001b[0m\u001b[0;34m,\u001b[0m\u001b[0;34m\u001b[0m\u001b[0;34m\u001b[0m\u001b[0m\n",
            "\u001b[0;32m/usr/local/lib/python3.10/dist-packages/gensim/parsing/preprocessing.py\u001b[0m in \u001b[0;36m<module>\u001b[0;34m\u001b[0m\n\u001b[1;32m     24\u001b[0m \u001b[0;32mimport\u001b[0m \u001b[0mglob\u001b[0m\u001b[0;34m\u001b[0m\u001b[0;34m\u001b[0m\u001b[0m\n\u001b[1;32m     25\u001b[0m \u001b[0;34m\u001b[0m\u001b[0m\n\u001b[0;32m---> 26\u001b[0;31m \u001b[0;32mfrom\u001b[0m \u001b[0mgensim\u001b[0m \u001b[0;32mimport\u001b[0m \u001b[0mutils\u001b[0m\u001b[0;34m\u001b[0m\u001b[0;34m\u001b[0m\u001b[0m\n\u001b[0m\u001b[1;32m     27\u001b[0m \u001b[0;32mfrom\u001b[0m \u001b[0mgensim\u001b[0m\u001b[0;34m.\u001b[0m\u001b[0mparsing\u001b[0m\u001b[0;34m.\u001b[0m\u001b[0mporter\u001b[0m \u001b[0;32mimport\u001b[0m \u001b[0mPorterStemmer\u001b[0m\u001b[0;34m\u001b[0m\u001b[0;34m\u001b[0m\u001b[0m\n\u001b[1;32m     28\u001b[0m \u001b[0;34m\u001b[0m\u001b[0m\n",
            "\u001b[0;32m/usr/local/lib/python3.10/dist-packages/gensim/utils.py\u001b[0m in \u001b[0;36m<module>\u001b[0;34m\u001b[0m\n\u001b[1;32m     35\u001b[0m \u001b[0;32mimport\u001b[0m \u001b[0mnumpy\u001b[0m \u001b[0;32mas\u001b[0m \u001b[0mnp\u001b[0m\u001b[0;34m\u001b[0m\u001b[0;34m\u001b[0m\u001b[0m\n\u001b[1;32m     36\u001b[0m \u001b[0;32mimport\u001b[0m \u001b[0mscipy\u001b[0m\u001b[0;34m.\u001b[0m\u001b[0msparse\u001b[0m\u001b[0;34m\u001b[0m\u001b[0;34m\u001b[0m\u001b[0m\n\u001b[0;32m---> 37\u001b[0;31m \u001b[0;32mfrom\u001b[0m \u001b[0msmart_open\u001b[0m \u001b[0;32mimport\u001b[0m \u001b[0mopen\u001b[0m\u001b[0;34m\u001b[0m\u001b[0;34m\u001b[0m\u001b[0m\n\u001b[0m\u001b[1;32m     38\u001b[0m \u001b[0;34m\u001b[0m\u001b[0m\n\u001b[1;32m     39\u001b[0m \u001b[0;32mfrom\u001b[0m \u001b[0mgensim\u001b[0m \u001b[0;32mimport\u001b[0m \u001b[0m__version__\u001b[0m \u001b[0;32mas\u001b[0m \u001b[0mgensim_version\u001b[0m\u001b[0;34m\u001b[0m\u001b[0;34m\u001b[0m\u001b[0m\n",
            "\u001b[0;32m/usr/local/lib/python3.10/dist-packages/smart_open/__init__.py\u001b[0m in \u001b[0;36m<module>\u001b[0;34m\u001b[0m\n\u001b[1;32m     32\u001b[0m \u001b[0;34m\u001b[0m\u001b[0m\n\u001b[1;32m     33\u001b[0m \u001b[0;32mfrom\u001b[0m \u001b[0msmart_open\u001b[0m \u001b[0;32mimport\u001b[0m \u001b[0mversion\u001b[0m  \u001b[0;31m# noqa: E402\u001b[0m\u001b[0;34m\u001b[0m\u001b[0;34m\u001b[0m\u001b[0m\n\u001b[0;32m---> 34\u001b[0;31m \u001b[0;32mfrom\u001b[0m \u001b[0;34m.\u001b[0m\u001b[0msmart_open_lib\u001b[0m \u001b[0;32mimport\u001b[0m \u001b[0mopen\u001b[0m\u001b[0;34m,\u001b[0m \u001b[0mparse_uri\u001b[0m\u001b[0;34m,\u001b[0m \u001b[0msmart_open\u001b[0m\u001b[0;34m,\u001b[0m \u001b[0mregister_compressor\u001b[0m  \u001b[0;31m# noqa: E402\u001b[0m\u001b[0;34m\u001b[0m\u001b[0;34m\u001b[0m\u001b[0m\n\u001b[0m\u001b[1;32m     35\u001b[0m \u001b[0;34m\u001b[0m\u001b[0m\n\u001b[1;32m     36\u001b[0m _WARNING = \"\"\"smart_open.s3_iter_bucket is deprecated and will stop functioning\n",
            "\u001b[0;32m/usr/local/lib/python3.10/dist-packages/smart_open/smart_open_lib.py\u001b[0m in \u001b[0;36m<module>\u001b[0;34m\u001b[0m\n\u001b[1;32m     33\u001b[0m \u001b[0;32mimport\u001b[0m \u001b[0msmart_open\u001b[0m\u001b[0;34m.\u001b[0m\u001b[0mutils\u001b[0m \u001b[0;32mas\u001b[0m \u001b[0mso_utils\u001b[0m\u001b[0;34m\u001b[0m\u001b[0;34m\u001b[0m\u001b[0m\n\u001b[1;32m     34\u001b[0m \u001b[0;34m\u001b[0m\u001b[0m\n\u001b[0;32m---> 35\u001b[0;31m \u001b[0;32mfrom\u001b[0m \u001b[0msmart_open\u001b[0m \u001b[0;32mimport\u001b[0m \u001b[0mdoctools\u001b[0m\u001b[0;34m\u001b[0m\u001b[0;34m\u001b[0m\u001b[0m\n\u001b[0m\u001b[1;32m     36\u001b[0m \u001b[0;32mfrom\u001b[0m \u001b[0msmart_open\u001b[0m \u001b[0;32mimport\u001b[0m \u001b[0mtransport\u001b[0m\u001b[0;34m\u001b[0m\u001b[0;34m\u001b[0m\u001b[0m\n\u001b[1;32m     37\u001b[0m \u001b[0;34m\u001b[0m\u001b[0m\n",
            "\u001b[0;32m/usr/local/lib/python3.10/dist-packages/smart_open/doctools.py\u001b[0m in \u001b[0;36m<module>\u001b[0;34m\u001b[0m\n\u001b[1;32m     19\u001b[0m \u001b[0;34m\u001b[0m\u001b[0m\n\u001b[1;32m     20\u001b[0m \u001b[0;32mfrom\u001b[0m \u001b[0;34m.\u001b[0m \u001b[0;32mimport\u001b[0m \u001b[0mcompression\u001b[0m\u001b[0;34m\u001b[0m\u001b[0;34m\u001b[0m\u001b[0m\n\u001b[0;32m---> 21\u001b[0;31m \u001b[0;32mfrom\u001b[0m \u001b[0;34m.\u001b[0m \u001b[0;32mimport\u001b[0m \u001b[0mtransport\u001b[0m\u001b[0;34m\u001b[0m\u001b[0;34m\u001b[0m\u001b[0m\n\u001b[0m\u001b[1;32m     22\u001b[0m \u001b[0;34m\u001b[0m\u001b[0m\n\u001b[1;32m     23\u001b[0m \u001b[0mPLACEHOLDER\u001b[0m \u001b[0;34m=\u001b[0m \u001b[0;34m'    smart_open/doctools.py magic goes here'\u001b[0m\u001b[0;34m\u001b[0m\u001b[0;34m\u001b[0m\u001b[0m\n",
            "\u001b[0;32m/usr/local/lib/python3.10/dist-packages/smart_open/transport.py\u001b[0m in \u001b[0;36m<module>\u001b[0;34m\u001b[0m\n\u001b[1;32m     20\u001b[0m \u001b[0mNO_SCHEME\u001b[0m \u001b[0;34m=\u001b[0m \u001b[0;34m''\u001b[0m\u001b[0;34m\u001b[0m\u001b[0;34m\u001b[0m\u001b[0m\n\u001b[1;32m     21\u001b[0m \u001b[0;34m\u001b[0m\u001b[0m\n\u001b[0;32m---> 22\u001b[0;31m \u001b[0m_REGISTRY\u001b[0m \u001b[0;34m=\u001b[0m \u001b[0;34m{\u001b[0m\u001b[0mNO_SCHEME\u001b[0m\u001b[0;34m:\u001b[0m \u001b[0msmart_open\u001b[0m\u001b[0;34m.\u001b[0m\u001b[0mlocal_file\u001b[0m\u001b[0;34m}\u001b[0m\u001b[0;34m\u001b[0m\u001b[0;34m\u001b[0m\u001b[0m\n\u001b[0m\u001b[1;32m     23\u001b[0m \u001b[0m_ERRORS\u001b[0m \u001b[0;34m=\u001b[0m \u001b[0;34m{\u001b[0m\u001b[0;34m}\u001b[0m\u001b[0;34m\u001b[0m\u001b[0;34m\u001b[0m\u001b[0m\n\u001b[1;32m     24\u001b[0m _MISSING_DEPS_ERROR = \"\"\"You are trying to use the %(module)s functionality of smart_open\n",
            "\u001b[0;31mAttributeError\u001b[0m: partially initialized module 'smart_open' has no attribute 'local_file' (most likely due to a circular import)"
          ]
        }
      ]
    },
    {
      "cell_type": "code",
      "source": [
        "#b. Demonstrate word embeddings using word2vec\n",
        "import gensim\n",
        "from gensim.models import Word2Vec\n",
        "from sklearn.decomposition import PCA\n",
        "import matplotlib.pyplot as plt\n",
        "\n",
        "# Sample sentences\n",
        "sentences = [\n",
        "    ['this', 'is', 'the', 'first', 'sentence', 'for', 'word2vec'],\n",
        "    ['this', 'is', 'the', 'second', 'sentence'],\n",
        "    ['yet', 'another', 'sentence'],\n",
        "    ['one', 'more', 'sentence'],\n",
        "    ['and', 'the', 'final', 'sentence']\n",
        "]\n",
        "\n",
        "# Train the Word2Vec model\n",
        "model = Word2Vec(sentences, vector_size=100, window=5, min_count=1, workers=4)\n",
        "\n",
        "# Retrieve word vectors\n",
        "word_vectors = model.wv\n",
        "\n",
        "# Test the word vectors\n",
        "similar_words = word_vectors.most_similar('sentence')\n",
        "print(\"Most similar words to 'sentence':\", similar_words)\n",
        "\n",
        "# Visualize word embeddings using PCA\n",
        "def plot_embeddings(words, vectors):\n",
        "    # Fit PCA model on word vectors\n",
        "    pca = PCA(n_components=2)\n",
        "    result = pca.fit_transform(vectors)\n",
        "\n",
        "    # Plot the result\n",
        "    plt.figure(figsize=(10, 6))\n",
        "    plt.scatter(result[:, 0], result[:, 1], alpha=0.5)\n",
        "    for i, word in enumerate(words):\n",
        "        plt.annotate(word, xy=(result[i, 0], result[i, 1]))\n",
        "    plt.title('Word Embeddings Visualization')\n",
        "    plt.xlabel('PCA Component 1')\n",
        "    plt.ylabel('PCA Component 2')\n",
        "    plt.grid(True)\n",
        "    plt.show()\n",
        "\n",
        "# Get all words in the list\n",
        "all_words = sum(sentences, [])\n",
        "unique_words = list(set(all_words))\n",
        "\n",
        "# Visualize embeddings for all words\n",
        "word_vectors_to_visualize = [word_vectors[word] for word in unique_words]\n",
        "plot_embeddings(unique_words, word_vectors_to_visualize)\n",
        "from google.colab import drive\n",
        "drive.mount('/content/drive')\n",
        "\n",
        "# Save the trained model to your Google Drive\n",
        "model.save(\"/content/drive/MyDrive/word2vec_model.bin\")\n"
      ],
      "metadata": {
        "colab": {
          "base_uri": "https://localhost:8080/",
          "height": 620
        },
        "id": "CqDWPorZVdIy",
        "outputId": "d7040a3f-06b4-42b4-d7ad-5447234efc0f"
      },
      "execution_count": 4,
      "outputs": [
        {
          "output_type": "stream",
          "name": "stdout",
          "text": [
            "Most similar words to 'sentence': [('yet', 0.21617330610752106), ('for', 0.09310110658407211), ('one', 0.09291722625494003), ('word2vec', 0.07963486760854721), ('second', 0.06285078823566437), ('another', 0.0270574688911438), ('more', 0.016134677454829216), ('the', -0.01083916611969471), ('final', -0.027750369161367416), ('first', -0.04125341773033142)]\n"
          ]
        },
        {
          "output_type": "display_data",
          "data": {
            "text/plain": [
              "<Figure size 1000x600 with 1 Axes>"
            ],
            "image/png": "[encoded data removed]"
          },
          "metadata": {}
        },
        {
          "output_type": "stream",
          "name": "stdout",
          "text": [
            "Drive already mounted at /content/drive; to attempt to forcibly remount, call drive.mount(\"/content/drive\", force_remount=True).\n"
          ]
        }
      ]
    },
    {
      "cell_type": "code",
      "source": [
        "from google.colab import files\n",
        "\n",
        "# Save the trained model to the Colab workspace\n",
        "model.save(\"word2vec_model.bin\")\n",
        "\n",
        "# Download the model file to your local machine\n",
        "files.download(\"word2vec_model.bin\")\n",
        "\n",
        "import numpy as np\n",
        "import matplotlib.pyplot as plt\n",
        "from sklearn.decomposition import PCA\n",
        "from gensim.models import Word2Vec\n",
        "\n",
        "# Load or train the Word2Vec model (replace this with your model loading/training code)\n",
        "model = Word2Vec.load(\"word2vec_model.bin\")\n",
        "\n",
        "# Get word vectors and corresponding words\n",
        "word_vectors = model.wv\n",
        "words = list(word_vectors.index_to_key)\n",
        "word_vectors_matrix = word_vectors.vectors\n",
        "\n",
        "# Reduce dimensionality using PCA\n",
        "pca = PCA(n_components=2)\n",
        "word_vectors_pca = pca.fit_transform(word_vectors_matrix)\n",
        "\n",
        "# Plot the result\n",
        "plt.figure(figsize=(10, 8))\n",
        "plt.scatter(word_vectors_pca[:, 0], word_vectors_pca[:, 1], alpha=0.5)\n",
        "for i, word in enumerate(words):\n",
        "    plt.annotate(word, xy=(word_vectors_pca[i, 0], word_vectors_pca[i, 1]))\n",
        "plt.title('Word2Vec Embeddings Visualization (PCA)')\n",
        "plt.xlabel('Principal Component 1')\n",
        "plt.ylabel('Principal Component 2')\n",
        "plt.grid(True)\n",
        "plt.show()\n"
      ],
      "metadata": {
        "colab": {
          "base_uri": "https://localhost:8080/",
          "height": 718
        },
        "id": "a5hTzkQfUX3F",
        "outputId": "eca74e49-a86f-45c6-80b6-3a895201d1ab"
      },
      "execution_count": 6,
      "outputs": [
        {
          "output_type": "display_data",
          "data": {
            "text/plain": [
              "<IPython.core.display.Javascript object>"
            ],
            "application/javascript": [
              "\n",
              "    async function download(id, filename, size) {\n",
              "      if (!google.colab.kernel.accessAllowed) {\n",
              "        return;\n",
              "      }\n",
              "      const div = document.createElement('div');\n",
              "      const label = document.createElement('label');\n",
              "      label.textContent = `Downloading \"${filename}\": `;\n",
              "      div.appendChild(label);\n",
              "      const progress = document.createElement('progress');\n",
              "      progress.max = size;\n",
              "      div.appendChild(progress);\n",
              "      document.body.appendChild(div);\n",
              "\n",
              "      const buffers = [];\n",
              "      let downloaded = 0;\n",
              "\n",
              "      const channel = await google.colab.kernel.comms.open(id);\n",
              "      // Send a message to notify the kernel that we're ready.\n",
              "      channel.send({})\n",
              "\n",
              "      for await (const message of channel.messages) {\n",
              "        // Send a message to notify the kernel that we're ready.\n",
              "        channel.send({})\n",
              "        if (message.buffers) {\n",
              "          for (const buffer of message.buffers) {\n",
              "            buffers.push(buffer);\n",
              "            downloaded += buffer.byteLength;\n",
              "            progress.value = downloaded;\n",
              "          }\n",
              "        }\n",
              "      }\n",
              "      const blob = new Blob(buffers, {type: 'application/binary'});\n",
              "      const a = document.createElement('a');\n",
              "      a.href = window.URL.createObjectURL(blob);\n",
              "      a.download = filename;\n",
              "      div.appendChild(a);\n",
              "      a.click();\n",
              "      div.remove();\n",
              "    }\n",
              "  "
            ]
          },
          "metadata": {}
        },
        {
          "output_type": "display_data",
          "data": {
            "text/plain": [
              "<IPython.core.display.Javascript object>"
            ],
            "application/javascript": [
              "download(\"download_a184ee76-82d6-41d8-a589-ad2ccdde1365\", \"word2vec_model.bin\", 17165)"
            ]
          },
          "metadata": {}
        },
        {
          "output_type": "display_data",
          "data": {
            "text/plain": [
              "<Figure size 1000x800 with 1 Axes>"
            ],
            "image/png": "[encoded data removed]"
          },
          "metadata": {}
        }
      ]
    },
    {
      "cell_type": "code",
      "source": [
        "from google.colab import drive\n",
        "drive.mount('/content/drive')"
      ],
      "metadata": {
        "id": "MUBRinTSUcdb"
      },
      "execution_count": null,
      "outputs": []
    },
    {
      "cell_type": "markdown",
      "source": [
        "exercise -7"
      ],
      "metadata": {
        "id": "Xblpp1pydgYN"
      }
    },
    {
      "cell_type": "code",
      "source": [
        "#Implement Text classification using naïve bayes classifier and text blob library\n",
        "\n",
        "import nltk\n",
        "nltk.download('punkt')\n",
        "from textblob.classifiers import NaiveBayesClassifier as NBC\n",
        "from textblob import TextBlob\n",
        "training_corpus = [\n",
        " ('I am exhausted of this work.', 'Class_B'),\n",
        " (\"I can't cooperate with this\", 'Class_B'),\n",
        " ('He is my badest enemy!', 'Class_B'),\n",
        " ('My management is poor.', 'Class_B'),\n",
        " ('I love this burger.', 'Class_A'),\n",
        " ('This is an brilliant place!', 'Class_A'),\n",
        " ('I feel very good about these dates.', 'Class_A'),\n",
        " ('This is my best work.', 'Class_A'),\n",
        " (\"What an awesome view\", 'Class_A'),\n",
        " ('I do not like this dish', 'Class_B')]\n",
        "test_corpus = [\n",
        " (\"I am not feeling well today.\", 'Class_B'),\n",
        " (\"I feel brilliant!\", 'Class_A'),\n",
        " ('Gary is a friend of mine.', 'Class_A'),\n",
        " (\"I can't believe I'm doing this.\", 'Class_B'),\n",
        " ('The date was good.', 'Class_A'), ('I do not enjoy my job', 'Class_B')]\n",
        "model = NBC(training_corpus)\n",
        "print(model.classify(\"Their codes are amazing.\"))\n",
        "print(model.classify(\"I don't like their computer.\"))\n",
        "print(model.accuracy(test_corpus))"
      ],
      "metadata": {
        "colab": {
          "base_uri": "https://localhost:8080/"
        },
        "id": "Qrh3EpwSZdJg",
        "outputId": "feb40975-a846-4f76-bb9e-9ce56cba00b5"
      },
      "execution_count": 17,
      "outputs": [
        {
          "output_type": "stream",
          "name": "stderr",
          "text": [
            "[nltk_data] Downloading package punkt to /root/nltk_data...\n",
            "[nltk_data]   Unzipping tokenizers/punkt.zip.\n"
          ]
        },
        {
          "output_type": "stream",
          "name": "stdout",
          "text": [
            "Class_A\n",
            "Class_B\n",
            "0.8333333333333334\n"
          ]
        }
      ]
    },
    {
      "cell_type": "code",
      "source": [
        "from sklearn.datasets import make_classification\n",
        "from sklearn.model_selection import train_test_split\n",
        "from sklearn.naive_bayes import GaussianNB\n",
        "from sklearn.metrics import classification_report\n",
        "\n",
        "# Generate a synthetic imbalanced dataset\n",
        "X, y = make_classification(n_samples=1000, n_features=10, n_classes=2, weights=[0.95, 0.05], random_state=42)\n",
        "\n",
        "# Split the data into train and test sets\n",
        "X_train, X_test, y_train, y_test = train_test_split(X, y, test_size=0.2, random_state=42)\n",
        "\n",
        "# Initialize and train a Naive Bayes classifier\n",
        "nb_classifier = GaussianNB()\n",
        "nb_classifier.fit(X_train, y_train)\n",
        "\n",
        "# Make predictions on the test set\n",
        "y_pred = nb_classifier.predict(X_test)\n",
        "\n",
        "# Evaluate the classifier\n",
        "print(\"Classification Report:\")\n",
        "print(classification_report(y_test, y_pred))\n"
      ],
      "metadata": {
        "colab": {
          "base_uri": "https://localhost:8080/"
        },
        "id": "_GsipHLFdlJI",
        "outputId": "00b1908f-a729-453d-b224-a57c6e3dc0e8"
      },
      "execution_count": 20,
      "outputs": [
        {
          "output_type": "stream",
          "name": "stdout",
          "text": [
            "Classification Report:\n",
            "              precision    recall  f1-score   support\n",
            "\n",
            "           0       0.97      0.98      0.98       188\n",
            "           1       0.70      0.58      0.64        12\n",
            "\n",
            "    accuracy                           0.96       200\n",
            "   macro avg       0.84      0.78      0.81       200\n",
            "weighted avg       0.96      0.96      0.96       200\n",
            "\n"
          ]
        }
      ]
    },
    {
      "cell_type": "code",
      "source": [
        "from sklearn.metrics import accuracy_score, precision_score, recall_score, f1_score\n",
        "\n",
        "# Calculate accuracy\n",
        "accuracy = accuracy_score(y_test, y_pred)\n",
        "\n",
        "# Calculate precision\n",
        "precision = precision_score(y_test, y_pred)\n",
        "\n",
        "# Calculate recall\n",
        "recall = recall_score(y_test, y_pred)\n",
        "\n",
        "# Calculate F1 score\n",
        "f1 = f1_score(y_test, y_pred)\n",
        "\n",
        "# Print the evaluation metrics\n",
        "print(\"Accuracy:\", accuracy)\n",
        "print(\"Precision:\", precision)\n",
        "print(\"Recall:\", recall)\n",
        "print(\"F1 Score:\", f1)\n"
      ],
      "metadata": {
        "colab": {
          "base_uri": "https://localhost:8080/"
        },
        "id": "GBKGSffGe8kO",
        "outputId": "d0149cd3-ee54-43c8-efce-e0d1d77dd501"
      },
      "execution_count": 21,
      "outputs": [
        {
          "output_type": "stream",
          "name": "stdout",
          "text": [
            "Accuracy: 0.96\n",
            "Precision: 0.7\n",
            "Recall: 0.5833333333333334\n",
            "F1 Score: 0.6363636363636365\n"
          ]
        }
      ]
    }
  ]
}