{
  "nbformat": 4,
  "nbformat_minor": 0,
  "metadata": {
    "colab": {
      "provenance": [],
      "authorship_tag": "ABX9TyO1WgEuOdmaqQGTrEn9ODyq",
      "include_colab_link": true
    },
    "kernelspec": {
      "name": "python3",
      "display_name": "Python 3"
    },
    "language_info": {
      "name": "python"
    }
  },
  "cells": [
    {
      "cell_type": "markdown",
      "metadata": {
        "id": "view-in-github",
        "colab_type": "text"
      },
      "source": [
        "<a href=\"https://colab.research.google.com/github/LAVANYAVARANASI-123/Google-Cloud-Jam-Module-7/blob/main/nlpexternalpractice.ipynb\" target=\"_parent\"><img src=\"https://colab.research.google.com/assets/colab-badge.svg\" alt=\"Open In Colab\"/></a>"
      ]
    },
    {
      "cell_type": "code",
      "execution_count": 29,
      "metadata": {
        "colab": {
          "base_uri": "https://localhost:8080/"
        },
        "id": "Y3680R1m0KQu",
        "outputId": "8bdd0f01-d397-4977-9686-b86615761fce"
      },
      "outputs": [
        {
          "output_type": "stream",
          "name": "stdout",
          "text": [
            "this @code is very #easy to    do\n",
            "  @code   very #easy to    do\n",
            "this  is very  to    do\n"
          ]
        }
      ],
      "source": [
        "import re\n",
        "def noise_removal(text):\n",
        "  noise_words=['is','a','this']\n",
        "  clean_text=text\n",
        "  for word in noise_words:\n",
        "    pattern=r'\\b{}\\b'.format(word)\n",
        "    clean_text =re.sub(pattern,' ',clean_text)\n",
        "  hastagremoval=re.sub(r'#\\w+\\s|@\\w+\\s|\\s',' ',text)\n",
        "  return clean_text,hastagremoval\n",
        "text=\"this @code is very #easy to    do\"\n",
        "clean_text,hastagremoval=noise_removal(text)\n",
        "print(text)\n",
        "print(clean_text)\n",
        "print(hastagremoval)\n"
      ]
    },
    {
      "cell_type": "code",
      "source": [
        "import re\n",
        "def remove_urls(text):\n",
        "    # Regular expression pattern to match URLs\n",
        "    url_pattern = r'https?://\\S+|www\\.\\S+'\n",
        "    # Substitute URLs with an empty string\n",
        "    clean_text = re.sub(url_pattern, '', text)\n",
        "    return clean_text\n",
        "\n",
        "# Sample text containing URLs\n",
        "sample_text = \"Check out this website: https://www.example.com and also visit http://another-example.com for more information.\"\n",
        "\n",
        "# Test the function\n",
        "cleaned_text = remove_urls(sample_text)\n",
        "\n",
        "print(\"Original Text:\")\n",
        "print(sample_text)\n",
        "print(\"\\nCleaned Text:\")\n",
        "print(cleaned_text)\n"
      ],
      "metadata": {
        "colab": {
          "base_uri": "https://localhost:8080/"
        },
        "id": "dFpKayr6_T3_",
        "outputId": "c8e95208-a41a-42aa-b836-4052271a6880"
      },
      "execution_count": 32,
      "outputs": [
        {
          "output_type": "stream",
          "name": "stdout",
          "text": [
            "Original Text:\n",
            "Check out this website: https://www.example.com and also visit http://another-example.com for more information.\n",
            "\n",
            "Cleaned Text:\n",
            "Check out this website:  and also visit  for more information.\n"
          ]
        }
      ]
    },
    {
      "cell_type": "code",
      "source": [
        "import re\n",
        "def extract_specific_emoticons(text):\n",
        "    # Regular expression pattern to match specific emoticons\n",
        "    emoticon_pattern = r'[:;]-?[)D]|;-\\)'\n",
        "    # Find all specific emoticons in the text\n",
        "    emoticons = re.findall(emoticon_pattern, text)\n",
        "    return emoticons\n",
        "\n",
        "# Sample text containing specific emoticons\n",
        "sample_text = \"Hello there! :) How are you? :-D I'm feeling great ;-) but also a bit tired :-/. Let's meet up soon! ^_^\"\n",
        "\n",
        "# Test the function\n",
        "extracted_emoticons = extract_specific_emoticons(sample_text)\n",
        "\n",
        "print(\"Original Text:\")\n",
        "print(sample_text)\n",
        "print(\"\\nExtracted Specific Emoticons:\")\n",
        "print(extracted_emoticons)\n"
      ],
      "metadata": {
        "colab": {
          "base_uri": "https://localhost:8080/"
        },
        "id": "DvYomaT8Ai_S",
        "outputId": "ade1f339-e5d5-49fb-9d1a-1321c1f78629"
      },
      "execution_count": 33,
      "outputs": [
        {
          "output_type": "stream",
          "name": "stdout",
          "text": [
            "Original Text:\n",
            "Hello there! :) How are you? :-D I'm feeling great ;-) but also a bit tired :-/. Let's meet up soon! ^_^\n",
            "\n",
            "Extracted Specific Emoticons:\n",
            "[':)', ':-D', ';-)']\n"
          ]
        }
      ]
    },
    {
      "cell_type": "code",
      "source": [
        "import re\n",
        "\n",
        "def remove_special_characters(text):\n",
        "    # Regular expression pattern to match all characters except alphabets and numbers\n",
        "    special_char_pattern = r'[^a-zA-Z0-9\\s]'\n",
        "    # Substitute special characters with an empty string\n",
        "    clean_text = re.sub(special_char_pattern, '', text)\n",
        "    return clean_text\n",
        "\n",
        "# Sample text containing special characters\n",
        "sample_text = \"Hello there! How are you? This is a sample text with special characters: @, $, %, ^, &, *, (, ), -, +, =.\"\n",
        "\n",
        "# Test the function\n",
        "cleaned_text = remove_special_characters(sample_text)\n",
        "\n",
        "print(\"Original Text:\")\n",
        "print(sample_text)\n",
        "print(\"\\nCleaned Text:\")\n",
        "print(cleaned_text)\n"
      ],
      "metadata": {
        "colab": {
          "base_uri": "https://localhost:8080/"
        },
        "id": "pHHAxMoaCuD7",
        "outputId": "c58c0d31-a468-40ec-a2e2-2451425f1a7a"
      },
      "execution_count": 34,
      "outputs": [
        {
          "output_type": "stream",
          "name": "stdout",
          "text": [
            "Original Text:\n",
            "Hello there! How are you? This is a sample text with special characters: @, $, %, ^, &, *, (, ), -, +, =.\n",
            "\n",
            "Cleaned Text:\n",
            "Hello there How are you This is a sample text with special characters           \n"
          ]
        }
      ]
    },
    {
      "cell_type": "code",
      "source": [],
      "metadata": {
        "id": "8hUygMkPDCAN"
      },
      "execution_count": null,
      "outputs": []
    }
  ]
}