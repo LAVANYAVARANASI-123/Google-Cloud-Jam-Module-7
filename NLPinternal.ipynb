{
  "nbformat": 4,
  "nbformat_minor": 0,
  "metadata": {
    "colab": {
      "provenance": [],
      "authorship_tag": "ABX9TyOT1qS3rMYeKDHhC6Rfcj6R",
      "include_colab_link": true
    },
    "kernelspec": {
      "name": "python3",
      "display_name": "Python 3"
    },
    "language_info": {
      "name": "python"
    }
  },
  "cells": [
    {
      "cell_type": "markdown",
      "metadata": {
        "id": "view-in-github",
        "colab_type": "text"
      },
      "source": [
        "<a href=\"https://colab.research.google.com/github/LAVANYAVARANASI-123/Google-Cloud-Jam-Module-7/blob/main/NLPinternal.ipynb\" target=\"_parent\"><img src=\"https://colab.research.google.com/assets/colab-badge.svg\" alt=\"Open In Colab\"/></a>"
      ]
    },
    {
      "cell_type": "markdown",
      "source": [
        "INTERNAL QUESTIONS (EXERCISE 1 TO 7, NO EXERCISE 5)"
      ],
      "metadata": {
        "id": "3gd53KzORJo5"
      }
    },
    {
      "cell_type": "code",
      "execution_count": 8,
      "metadata": {
        "colab": {
          "base_uri": "https://localhost:8080/"
        },
        "id": "FG8Gk4UqPaVL",
        "outputId": "cc47e316-7ee8-49a5-a9f6-5aa0d2aacd85"
      },
      "outputs": [
        {
          "output_type": "stream",
          "name": "stdout",
          "text": [
            "this @code is very #easy to    do\n",
            "  @code   very #easy to    do\n",
            "this   is very  to do\n"
          ]
        }
      ],
      "source": [
        "#Demonstrate Noise Removal for any textual data and remove regular\n",
        "#expression pattern such as hashtag from textual data\n",
        "\n",
        "import re\n",
        "def noise_removal(text):\n",
        "  noise_words=['is','a','this']\n",
        "  clean_text=text\n",
        "  for word in noise_words:\n",
        "    pattern=r'\\b{}\\b'.format(word)\n",
        "    clean_text =re.sub(pattern,' ',clean_text)\n",
        "  hashtag_removal=re.sub(r'#\\w+\\s|@\\w+|\\s+',' ',text)\n",
        "  return clean_text,hashtag_removal\n",
        "text=\"this @code is very #easy to    do\"\n",
        "clean_text,hashtag_removal=noise_removal(text)\n",
        "print(text)\n",
        "print(clean_text)\n",
        "print(hashtag_removal)\n",
        "\n"
      ]
    },
    {
      "cell_type": "code",
      "source": [
        "#Perform lemmatization and stemming using python library nltk\n",
        "#2 toke,stemme,lemme\n",
        "\n",
        "import nltk\n",
        "from nltk.tokenize import word_tokenize\n",
        "from nltk.stem import PorterStemmer\n",
        "from nltk.stem import WordNetLemmatizer\n",
        "from nltk import pos_tag\n",
        "nltk.download('punkt')\n",
        "nltk.download('wordnet')\n",
        "nltk.download('averaged_perceptron_tagger')\n",
        "porter_stemmer = PorterStemmer()\n",
        "lemmatizer=WordNetLemmatizer()\n",
        "def toke_and_stem(text):\n",
        "  tokens=word_tokenize(text)\n",
        "  stemmed_token=[porter_stemmer.stem(token) for token in tokens]\n",
        "  return ' '.join( stemmed_token)\n",
        "def toke_and_lemm(text):\n",
        "  tokens=word_tokenize(text)\n",
        "  lemmatized=[lemmatizer.lemmatize(token) for token in tokens]\n",
        "  return ' '.join( lemmatized)\n",
        "#tok=word_tokenize(text)\n",
        "#pos_tags=pos_tag(tok)\n",
        "text='the quick brown foxes jumped over lazy a dog'\n",
        "stemmer=toke_and_stem(text)\n",
        "lemma=toke_and_lemm(text)\n",
        "print(text)\n",
        "print(stemmer)\n",
        "print(lemma)\n",
        "#print(pos_tags)\n"
      ],
      "metadata": {
        "colab": {
          "base_uri": "https://localhost:8080/"
        },
        "id": "RV7qX4RhPyCs",
        "outputId": "737ed9cf-3cbe-4c76-fa01-73dd9725905b"
      },
      "execution_count": 2,
      "outputs": [
        {
          "output_type": "stream",
          "name": "stderr",
          "text": [
            "[nltk_data] Downloading package punkt to /root/nltk_data...\n",
            "[nltk_data]   Unzipping tokenizers/punkt.zip.\n",
            "[nltk_data] Downloading package wordnet to /root/nltk_data...\n",
            "[nltk_data] Downloading package averaged_perceptron_tagger to\n",
            "[nltk_data]     /root/nltk_data...\n",
            "[nltk_data]   Unzipping taggers/averaged_perceptron_tagger.zip.\n"
          ]
        },
        {
          "output_type": "stream",
          "name": "stdout",
          "text": [
            "the quick brown foxes jumped over lazy a dog\n",
            "the quick brown fox jump over lazi a dog\n",
            "the quick brown fox jumped over lazy a dog\n"
          ]
        }
      ]
    },
    {
      "cell_type": "code",
      "source": [
        "#Demonstrate object standardization such as replacing social media slangs from a text\n",
        "slangs_map={\n",
        "    \"lol\":\"laugh out loud\",\n",
        "    \"omg\":\"oh my god\",\n",
        "    \"hlo\":\"hello\",\n",
        "    \"tq\":\"thank you\"\n",
        "}\n",
        "def standard_text(text,slangs_map):\n",
        "  for slang,standard in slangs_map.items():\n",
        "    text=text.replace(slang,standard)\n",
        "  return text\n",
        "text=\"hlo the movie omg that you suggested was lol tq for it\"\n",
        "standardized_text=standard_text(text,slangs_map)\n",
        "print(text)\n",
        "print(standardized_text)"
      ],
      "metadata": {
        "colab": {
          "base_uri": "https://localhost:8080/"
        },
        "id": "WugM-tfUP97F",
        "outputId": "f219c857-bfa8-45d2-b35f-02b205f571b0"
      },
      "execution_count": 3,
      "outputs": [
        {
          "output_type": "stream",
          "name": "stdout",
          "text": [
            "hlo the movie omg that you suggested was lol tq for it\n",
            "hello the movie oh my god that you suggested was laugh out loud thank you for it\n"
          ]
        }
      ]
    },
    {
      "cell_type": "code",
      "source": [
        "#Perform the part of speech tagging on any textual data.\n",
        "import nltk\n",
        "from nltk.tokenize import word_tokenize\n",
        "from nltk import pos_tag\n",
        "nltk.download('punkt')\n",
        "nltk.download('averaged_perceptron_tagger')\n",
        "def pos_tagger(text):\n",
        "  tokens=word_tokenize(text)\n",
        "  pos_framer=pos_tag(tokens)\n",
        "  return pos_framer\n",
        "text=\"hi my name is lavanya , i love to improve myself\"\n",
        "pos_converter=pos_tagger(text)\n",
        "print(text)\n",
        "print(pos_converter)"
      ],
      "metadata": {
        "colab": {
          "base_uri": "https://localhost:8080/"
        },
        "id": "A2ruZfB8QR5f",
        "outputId": "91b3ef53-db38-4f57-af4b-211ccebc0969"
      },
      "execution_count": 4,
      "outputs": [
        {
          "output_type": "stream",
          "name": "stdout",
          "text": [
            "hi my name is lavanya , i love to improve myself\n",
            "[('hi', 'NN'), ('my', 'PRP$'), ('name', 'NN'), ('is', 'VBZ'), ('lavanya', 'JJ'), (',', ','), ('i', 'JJ'), ('love', 'VBP'), ('to', 'TO'), ('improve', 'VB'), ('myself', 'PRP')]\n"
          ]
        },
        {
          "output_type": "stream",
          "name": "stderr",
          "text": [
            "[nltk_data] Downloading package punkt to /root/nltk_data...\n",
            "[nltk_data]   Package punkt is already up-to-date!\n",
            "[nltk_data] Downloading package averaged_perceptron_tagger to\n",
            "[nltk_data]     /root/nltk_data...\n",
            "[nltk_data]   Package averaged_perceptron_tagger is already up-to-\n",
            "[nltk_data]       date!\n"
          ]
        }
      ]
    },
    {
      "cell_type": "code",
      "source": [
        "#a. Demonstrate Term Frequency – Inverse Document Frequency (TF – IDF) using python\n",
        "import numpy as np\n",
        "import pandas as pd\n",
        "corpus=[\"data science is one of the most important fields of science\",\n",
        "    \"this is one of the best data science courses\",\n",
        "    \"data scientists analyze data\"]\n",
        "words_set=set()\n",
        "for doc in corpus:\n",
        "  words=doc.split(' ')\n",
        "  words_set=words_set.union(set(words))\n",
        "n_docs=len(corpus)\n",
        "n_words_set=len(words_set)\n",
        "df_tf=pd.DataFrame(np.zeros((n_docs,n_words_set)),columns=list(words_set))\n",
        "#tf\n",
        "for i in range(n_docs):\n",
        "  words=corpus[i].split(' ')\n",
        "  for w in words:\n",
        "    df_tf[w][i]=df_tf[w][i]+(1/len(words))\n",
        "#idf\n",
        "idf={}\n",
        "for w in words_set:\n",
        "  k=0\n",
        "  for i in range(n_docs):\n",
        "    if w in corpus[i].split(' '):\n",
        "      k+=1\n",
        "  idf[w]=np.log10(n_docs/k)\n",
        "#df_tf_idf\n",
        "df_tf_idf=df_tf.copy()\n",
        "for w in words_set:\n",
        "  for i in range(n_docs):\n",
        "    df_tf_idf[w][i]=df_tf[w][i]*idf[w]\n",
        "print(df_tf_idf.sort_index(axis=1))\n"
      ],
      "metadata": {
        "colab": {
          "base_uri": "https://localhost:8080/"
        },
        "id": "pt9CXizCQa36",
        "outputId": "15ddf114-49bd-4635-c502-92376608c987"
      },
      "execution_count": 5,
      "outputs": [
        {
          "output_type": "stream",
          "name": "stdout",
          "text": [
            "   analyze      best   courses  data    fields  important        is      most  \\\n",
            "0  0.00000  0.000000  0.000000   0.0  0.043375   0.043375  0.016008  0.043375   \n",
            "1  0.00000  0.053013  0.053013   0.0  0.000000   0.000000  0.019566  0.000000   \n",
            "2  0.11928  0.000000  0.000000   0.0  0.000000   0.000000  0.000000  0.000000   \n",
            "\n",
            "         of       one   science  scientists       the      this  \n",
            "0  0.032017  0.016008  0.032017     0.00000  0.016008  0.000000  \n",
            "1  0.019566  0.019566  0.019566     0.00000  0.019566  0.053013  \n",
            "2  0.000000  0.000000  0.000000     0.11928  0.000000  0.000000  \n"
          ]
        }
      ]
    },
    {
      "cell_type": "code",
      "source": [
        "#b. Demonstrate word embeddings using word2vec\n",
        "import gensim\n",
        "from gensim.models import Word2Vec\n",
        "from sklearn.decomposition import PCA\n",
        "import matplotlib.pyplot as plt\n",
        "\n",
        "# Sample sentences\n",
        "sentences = [\n",
        "    ['this', 'is', 'the', 'first', 'sentence', 'for', 'word2vec'],\n",
        "    ['this', 'is', 'the', 'second', 'sentence'],\n",
        "    ['yet', 'another', 'sentence'],\n",
        "    ['one', 'more', 'sentence'],\n",
        "    ['and', 'the', 'final', 'sentence']\n",
        "]\n",
        "\n",
        "# Train the Word2Vec model\n",
        "model = Word2Vec(sentences, vector_size=100, window=5, min_count=1, workers=4)\n",
        "\n",
        "# Retrieve word vectors\n",
        "word_vectors = model.wv\n",
        "\n",
        "# Test the word vectors\n",
        "similar_words = word_vectors.most_similar('sentence')\n",
        "print(\"Most similar words to 'sentence':\", similar_words)\n",
        "\n",
        "# Visualize word embeddings using PCA\n",
        "def plot_embeddings(words, vectors):\n",
        "    # Fit PCA model on word vectors\n",
        "    pca = PCA(n_components=2)\n",
        "    result = pca.fit_transform(vectors)\n",
        "\n",
        "    # Plot the result\n",
        "    plt.figure(figsize=(10, 6))\n",
        "    plt.scatter(result[:, 0], result[:, 1], alpha=0.5)\n",
        "    for i, word in enumerate(words):\n",
        "        plt.annotate(word, xy=(result[i, 0], result[i, 1]))\n",
        "    plt.title('Word Embeddings Visualization')\n",
        "    plt.xlabel('PCA Component 1')\n",
        "    plt.ylabel('PCA Component 2')\n",
        "    plt.grid(True)\n",
        "    plt.show()\n",
        "\n",
        "# Get all words in the list\n",
        "all_words = sum(sentences, [])\n",
        "unique_words = list(set(all_words))\n",
        "\n",
        "# Visualize embeddings for all words\n",
        "word_vectors_to_visualize = [word_vectors[word] for word in unique_words]\n",
        "plot_embeddings(unique_words, word_vectors_to_visualize)\n"
      ],
      "metadata": {
        "colab": {
          "base_uri": "https://localhost:8080/",
          "height": 601
        },
        "id": "UMwKZt99Que1",
        "outputId": "a71bb23d-d55b-4eb1-e35e-7032060d3829"
      },
      "execution_count": 6,
      "outputs": [
        {
          "output_type": "stream",
          "name": "stdout",
          "text": [
            "Most similar words to 'sentence': [('yet', 0.21617330610752106), ('for', 0.09310110658407211), ('one', 0.09291722625494003), ('word2vec', 0.07963486760854721), ('second', 0.06285078823566437), ('another', 0.0270574688911438), ('more', 0.016134677454829216), ('the', -0.01083916611969471), ('final', -0.027750369161367416), ('first', -0.04125341773033142)]\n"
          ]
        },
        {
          "output_type": "display_data",
          "data": {
            "text/plain": [
              "<Figure size 1000x600 with 1 Axes>"
            ],
            "image/png": "[encoded data removed]"
          },
          "metadata": {}
        }
      ]
    },
    {
      "cell_type": "code",
      "source": [
        "#Implement Text classification using naïve bayes classifier and text blob library\n",
        "import nltk\n",
        "nltk.download('punkt')\n",
        "from textblob.classifiers import NaiveBayesClassifier as NBC\n",
        "from textblob import TextBlob\n",
        "training_corpus = [\n",
        " ('I am exhausted of this work.', 'Class_B'),\n",
        " (\"I can't cooperate with this\", 'Class_B'),\n",
        " ('He is my badest enemy!', 'Class_B'),\n",
        " ('My management is poor.', 'Class_B'),\n",
        " ('I love this burger.', 'Class_A'),\n",
        " ('This is an brilliant place!', 'Class_A'),\n",
        " ('I feel very good about these dates.', 'Class_A'),\n",
        " ('This is my best work.', 'Class_A'),\n",
        " (\"What an awesome view\", 'Class_A'),\n",
        " ('I do not like this dish', 'Class_B')]\n",
        "test_corpus = [\n",
        " (\"I am not feeling well today.\", 'Class_B'),\n",
        " (\"I feel brilliant!\", 'Class_A'),\n",
        " ('Gary is a friend of mine.', 'Class_A'),\n",
        " (\"I can't believe I'm doing this.\", 'Class_B'),\n",
        " ('The date was good.', 'Class_A'), ('I do not enjoy my job', 'Class_B')]\n",
        "model = NBC(training_corpus)\n",
        "print(model.classify(\"Their codes are amazing.\"))\n",
        "print(model.classify(\"I don't like their computer.\"))\n",
        "print(model.accuracy(test_corpus))"
      ],
      "metadata": {
        "colab": {
          "base_uri": "https://localhost:8080/"
        },
        "id": "JBGScWTcQ5Ym",
        "outputId": "3d63164d-06aa-442b-e4fc-94662b99d320"
      },
      "execution_count": 7,
      "outputs": [
        {
          "output_type": "stream",
          "name": "stdout",
          "text": [
            "Class_A\n",
            "Class_B\n",
            "0.8333333333333334\n"
          ]
        },
        {
          "output_type": "stream",
          "name": "stderr",
          "text": [
            "[nltk_data] Downloading package punkt to /root/nltk_data...\n",
            "[nltk_data]   Package punkt is already up-to-date!\n"
          ]
        }
      ]
    }
  ]
}